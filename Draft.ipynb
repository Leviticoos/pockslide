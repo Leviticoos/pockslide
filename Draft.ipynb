{
 "cells": [
  {
   "cell_type": "code",
   "execution_count": 49,
   "id": "36d4f65c",
   "metadata": {},
   "outputs": [
    {
     "ename": "ModuleNotFoundError",
     "evalue": "No module named 'Player'",
     "output_type": "error",
     "traceback": [
      "\u001b[0;31m---------------------------------------------------------------------------\u001b[0m",
      "\u001b[0;31mModuleNotFoundError\u001b[0m                       Traceback (most recent call last)",
      "Input \u001b[0;32mIn [49]\u001b[0m, in \u001b[0;36m<cell line: 2>\u001b[0;34m()\u001b[0m\n\u001b[1;32m      1\u001b[0m \u001b[38;5;28;01mimport\u001b[39;00m \u001b[38;5;21;01mrandom\u001b[39;00m\n\u001b[0;32m----> 2\u001b[0m \u001b[38;5;28;01mfrom\u001b[39;00m \u001b[38;5;21;01mPlayer\u001b[39;00m \u001b[38;5;28;01mimport\u001b[39;00m \u001b[38;5;241m*\u001b[39m\n\u001b[1;32m      4\u001b[0m \u001b[38;5;28;01mdef\u001b[39;00m \u001b[38;5;21mdraft\u001b[39m(num_Players, year):\n\u001b[1;32m      5\u001b[0m     sylables \u001b[38;5;241m=\u001b[39m [\u001b[38;5;124m\"\u001b[39m\u001b[38;5;124mnor\u001b[39m\u001b[38;5;124m\"\u001b[39m,\u001b[38;5;124m\"\u001b[39m\u001b[38;5;124mbil\u001b[39m\u001b[38;5;124m\"\u001b[39m,\u001b[38;5;124m\"\u001b[39m\u001b[38;5;124mman\u001b[39m\u001b[38;5;124m\"\u001b[39m,\u001b[38;5;124m\"\u001b[39m\u001b[38;5;124msam\u001b[39m\u001b[38;5;124m\"\u001b[39m,\u001b[38;5;124m\"\u001b[39m\u001b[38;5;124mpoe\u001b[39m\u001b[38;5;124m\"\u001b[39m,\u001b[38;5;124m\"\u001b[39m\u001b[38;5;124mkrim\u001b[39m\u001b[38;5;124m\"\u001b[39m,\u001b[38;5;124m\"\u001b[39m\u001b[38;5;124mstor\u001b[39m\u001b[38;5;124m\"\u001b[39m]\n",
      "\u001b[0;31mModuleNotFoundError\u001b[0m: No module named 'Player'"
     ]
    }
   ],
   "source": [
    "import random\n",
    "\n",
    "def draft(num_Players, year):\n",
    "    sylables = [\"nor\",\"bil\",\"man\",\"sam\",\"poe\",\"krim\",\"stor\"]\n",
    "    for i in range(0,num_Players):\n",
    "        name = \"\"\n",
    "        count = random.randint(1,3)\n",
    "        for j in range(0,count):\n",
    "            k = random.randint(0, len(sylables)-1)\n",
    "            name += sylables[k]\n",
    "        name += \" \"\n",
    "        count = random.randint(2,5)    \n",
    "        for j in range(0,count):\n",
    "            k = random.randint(0, len(sylables)-1)\n",
    "            name += sylables[k]\n",
    "        print(name)\n",
    "        speed = random.random()\n",
    "        dex = random.random()\n",
    "        strength = random.random()\n",
    "        arm = random.random()\n",
    "        leg = random.random()\n",
    "        smarts = random.random()\n",
    "        luck = random.random()\n",
    "        risk = random.random()\n",
    "        \n",
    "        skills = [speed, dex, strength, arm, leg, smarts, luck, risk]\n",
    "        team = \"free\"\n",
    "        bDay = [random.randint(1,7),random.randint(1,21),year-random.randint(17,22)]\n",
    "        \n",
    "        players = player.append(Player(name,team,year,skills,bDay,hometown))\n",
    "    \n",
    "draft(2,2)\n"
   ]
  },
  {
   "cell_type": "code",
   "execution_count": null,
   "id": "fd0a786c",
   "metadata": {},
   "outputs": [],
   "source": []
  },
  {
   "cell_type": "code",
   "execution_count": null,
   "id": "afe7fc19",
   "metadata": {},
   "outputs": [],
   "source": []
  }
 ],
 "metadata": {
  "kernelspec": {
   "display_name": "Python 3 (ipykernel)",
   "language": "python",
   "name": "python3"
  },
  "language_info": {
   "codemirror_mode": {
    "name": "ipython",
    "version": 3
   },
   "file_extension": ".py",
   "mimetype": "text/x-python",
   "name": "python",
   "nbconvert_exporter": "python",
   "pygments_lexer": "ipython3",
   "version": "3.8.10"
  }
 },
 "nbformat": 4,
 "nbformat_minor": 5
}
