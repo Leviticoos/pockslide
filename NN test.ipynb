{
 "cells": [
  {
   "cell_type": "code",
   "execution_count": 1,
   "metadata": {},
   "outputs": [],
   "source": [
    "import numpy as np\n",
    "import pygad\n",
    "import torch\n",
    "import torch.nn as nn\n",
    "import torch.optim as optim\n",
    "\n",
    "#import Levi libraries\n",
    "import pocksward as pk\n",
    "\n",
    "#Keep this as long as lenses.py is being edited TODO delete once done\n",
    "from importlib import reload  # Python 3.4+\n",
    "pk = reload(pk)"
   ]
  },
  {
   "cell_type": "code",
   "execution_count": 2,
   "metadata": {},
   "outputs": [
    {
     "name": "stdout",
     "output_type": "stream",
     "text": [
      "hmm\n",
      "\n",
      "hmm\n",
      "Made random NNs\n",
      "hmm\n",
      "NN(\n",
      "  (fc1): Linear(in_features=8, out_features=24, bias=True)\n",
      "  (fc2): Linear(in_features=24, out_features=2, bias=True)\n",
      "  (relu): ReLU()\n",
      "  (softmax): Softmax(dim=0)\n",
      ")\n",
      "hmm\n",
      "tensor([1., 2., 3., 4., 5., 6., 7., 8.])\n",
      "tensor([0.7825, 0.2175], grad_fn=<SoftmaxBackward0>)\n"
     ]
    }
   ],
   "source": [
    "#testing the NN creation for actors\n",
    "mikeZimmer = pk.Coach(\"Mike Zimmer\", 00000)\n",
    "print(\"hmm\")\n",
    "print(mikeZimmer.getRosterNN())\n",
    "print(\"hmm\")\n",
    "print(mikeZimmer.giveBrains([],[]))\n",
    "print(\"hmm\")\n",
    "print(mikeZimmer.getRosterNN())\n",
    "print(\"hmm\")\n",
    "print(mikeZimmer.runRosterNN([1,2,3,4,5,6,7,8]))\n"
   ]
  }
 ],
 "metadata": {
  "kernelspec": {
   "display_name": "Python 3",
   "language": "python",
   "name": "python3"
  },
  "language_info": {
   "codemirror_mode": {
    "name": "ipython",
    "version": 3
   },
   "file_extension": ".py",
   "mimetype": "text/x-python",
   "name": "python",
   "nbconvert_exporter": "python",
   "pygments_lexer": "ipython3",
   "version": "3.11.9"
  }
 },
 "nbformat": 4,
 "nbformat_minor": 2
}
