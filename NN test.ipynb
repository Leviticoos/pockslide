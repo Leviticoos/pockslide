{
 "cells": [
  {
   "cell_type": "code",
   "execution_count": 11,
   "metadata": {},
   "outputs": [
    {
     "ename": "SyntaxError",
     "evalue": "invalid syntax (nn.py, line 49)",
     "output_type": "error",
     "traceback": [
      "Traceback \u001b[1;36m(most recent call last)\u001b[0m:\n",
      "\u001b[0m  File \u001b[0;32m~\\AppData\\Roaming\\Python\\Python311\\site-packages\\IPython\\core\\interactiveshell.py:3577\u001b[0m in \u001b[0;35mrun_code\u001b[0m\n    exec(code_obj, self.user_global_ns, self.user_ns)\u001b[0m\n",
      "\u001b[0m  Cell \u001b[0;32mIn[11], line 8\u001b[0m\n    import pocksward as pk\u001b[0m\n",
      "\u001b[0m  File \u001b[0;32mc:\\xampp\\htdocs\\leviticusrhoden\\pockslide\\pocksward\\__init__.py:8\u001b[0m\n    from .actors import *\u001b[0m\n",
      "\u001b[0m  File \u001b[0;32mc:\\xampp\\htdocs\\leviticusrhoden\\pockslide\\pocksward\\actors\\__init__.py:9\u001b[0m\n    from .coach import *\u001b[0m\n",
      "\u001b[0m  File \u001b[0;32mc:\\xampp\\htdocs\\leviticusrhoden\\pockslide\\pocksward\\actors\\coach.py:7\u001b[0m\n    pk = reload(pk)\u001b[0m\n",
      "\u001b[0m  File \u001b[0;32mc:\\Users\\LeviR\\AppData\\Local\\Programs\\Python\\Python311\\Lib\\importlib\\__init__.py:169\u001b[0m in \u001b[0;35mreload\u001b[0m\n    _bootstrap._exec(spec, module)\u001b[0m\n",
      "\u001b[0m  File \u001b[0;32mc:\\xampp\\htdocs\\leviticusrhoden\\pockslide\\pocksward\\__init__.py:10\u001b[0m\n    from .world import *\u001b[0m\n",
      "\u001b[1;36m  File \u001b[1;32mc:\\xampp\\htdocs\\leviticusrhoden\\pockslide\\pocksward\\world\\__init__.py:15\u001b[1;36m\n\u001b[1;33m    from .nn import *\u001b[1;36m\n",
      "\u001b[1;36m  File \u001b[1;32mc:\\xampp\\htdocs\\leviticusrhoden\\pockslide\\pocksward\\world\\nn.py:49\u001b[1;36m\u001b[0m\n\u001b[1;33m    child1_weights = np.\u001b[0m\n\u001b[1;37m                        ^\u001b[0m\n\u001b[1;31mSyntaxError\u001b[0m\u001b[1;31m:\u001b[0m invalid syntax\n"
     ]
    }
   ],
   "source": [
    "import numpy as np\n",
    "import pygad\n",
    "import torch\n",
    "import torch.nn as nn\n",
    "import torch.optim as optim\n",
    "\n",
    "#import Levi libraries\n",
    "import pocksward as pk\n",
    "\n",
    "#Keep this as long as lenses.py is being edited TODO delete once done\n",
    "from importlib import reload  # Python 3.4+\n",
    "pk = reload(pk)"
   ]
  }
 ],
 "metadata": {
  "kernelspec": {
   "display_name": "Python 3",
   "language": "python",
   "name": "python3"
  },
  "language_info": {
   "codemirror_mode": {
    "name": "ipython",
    "version": 3
   },
   "file_extension": ".py",
   "mimetype": "text/x-python",
   "name": "python",
   "nbconvert_exporter": "python",
   "pygments_lexer": "ipython3",
   "version": "3.11.3"
  }
 },
 "nbformat": 4,
 "nbformat_minor": 2
}
