{
 "cells": [
  {
   "cell_type": "code",
   "execution_count": 12,
   "id": "40027b30",
   "metadata": {},
   "outputs": [],
   "source": [
    "players = []"
   ]
  },
  {
   "cell_type": "code",
   "execution_count": 17,
   "id": "8665e487",
   "metadata": {},
   "outputs": [],
   "source": [
    "class Player:\n",
    "    \n",
    "    def __init__(self,name,team,draft,skills,bDay):\n",
    "        self.name = name\n",
    "        self.team = team\n",
    "        self.draft = draft\n",
    "        self.skills = skills\n",
    "        self.bDay = bDay\n",
    "        \n",
    "    def setteam(self, newteam):\n",
    "        self.team = newteam\n",
    "        \n",
    "    def updateskills(self,newskills):\n",
    "        self.skills = newskills\n",
    "        \n",
    "    def getskills(self):\n",
    "        return self.skills"
   ]
  },
  {
   "cell_type": "code",
   "execution_count": 23,
   "id": "bcd4a549",
   "metadata": {},
   "outputs": [
    {
     "ename": "AttributeError",
     "evalue": "'NoneType' object has no attribute 'append'",
     "output_type": "error",
     "traceback": [
      "\u001b[0;31m---------------------------------------------------------------------------\u001b[0m",
      "\u001b[0;31mAttributeError\u001b[0m                            Traceback (most recent call last)",
      "Input \u001b[0;32mIn [23]\u001b[0m, in \u001b[0;36m<cell line: 34>\u001b[0;34m()\u001b[0m\n\u001b[1;32m     30\u001b[0m         newPlayers \u001b[38;5;241m=\u001b[39m newPlayers\u001b[38;5;241m.\u001b[39mappend(\u001b[38;5;124m\"\u001b[39m\u001b[38;5;124me\u001b[39m\u001b[38;5;124m\"\u001b[39m)\n\u001b[1;32m     32\u001b[0m     \u001b[38;5;28;01mreturn\u001b[39;00m newPlayers\n\u001b[0;32m---> 34\u001b[0m \u001b[43mdraft\u001b[49m\u001b[43m(\u001b[49m\u001b[38;5;241;43m2\u001b[39;49m\u001b[43m,\u001b[49m\u001b[38;5;241;43m2\u001b[39;49m\u001b[43m)\u001b[49m\n",
      "Input \u001b[0;32mIn [23]\u001b[0m, in \u001b[0;36mdraft\u001b[0;34m(num_Players, year)\u001b[0m\n\u001b[1;32m     27\u001b[0m     team \u001b[38;5;241m=\u001b[39m \u001b[38;5;124m\"\u001b[39m\u001b[38;5;124mfree\u001b[39m\u001b[38;5;124m\"\u001b[39m\n\u001b[1;32m     28\u001b[0m     bDay \u001b[38;5;241m=\u001b[39m [random\u001b[38;5;241m.\u001b[39mrandint(\u001b[38;5;241m1\u001b[39m,\u001b[38;5;241m7\u001b[39m),random\u001b[38;5;241m.\u001b[39mrandint(\u001b[38;5;241m1\u001b[39m,\u001b[38;5;241m21\u001b[39m),year\u001b[38;5;241m-\u001b[39mrandom\u001b[38;5;241m.\u001b[39mrandint(\u001b[38;5;241m17\u001b[39m,\u001b[38;5;241m22\u001b[39m)]\n\u001b[0;32m---> 30\u001b[0m     newPlayers \u001b[38;5;241m=\u001b[39m \u001b[43mnewPlayers\u001b[49m\u001b[38;5;241;43m.\u001b[39;49m\u001b[43mappend\u001b[49m(\u001b[38;5;124m\"\u001b[39m\u001b[38;5;124me\u001b[39m\u001b[38;5;124m\"\u001b[39m)\n\u001b[1;32m     32\u001b[0m \u001b[38;5;28;01mreturn\u001b[39;00m newPlayers\n",
      "\u001b[0;31mAttributeError\u001b[0m: 'NoneType' object has no attribute 'append'"
     ]
    }
   ],
   "source": [
    "import random\n",
    "\n",
    "def draft(num_Players, year):\n",
    "    sylables = [\"nor\",\"bil\",\"man\",\"sam\",\"poe\",\"krim\",\"stor\"]\n",
    "    newPlayers=[]\n",
    "    for i in range(0,num_Players):\n",
    "        name = \"\"\n",
    "        count = random.randint(1,3)\n",
    "        for j in range(0,count):\n",
    "            k = random.randint(0, len(sylables)-1)\n",
    "            name += sylables[k]\n",
    "        name += \" \"\n",
    "        count = random.randint(2,5)    \n",
    "        for j in range(0,count):\n",
    "            k = random.randint(0, len(sylables)-1)\n",
    "            name += sylables[k]\n",
    "        speed = random.random()\n",
    "        dex = random.random()\n",
    "        strength = random.random()\n",
    "        arm = random.random()\n",
    "        leg = random.random()\n",
    "        smarts = random.random()\n",
    "        luck = random.random()\n",
    "        risk = random.random()\n",
    "        \n",
    "        skills = [speed, dex, strength, arm, leg, smarts, luck, risk]\n",
    "        team = \"free\"\n",
    "        bDay = [random.randint(1,7),random.randint(1,21),year-random.randint(17,22)]\n",
    "        \n",
    "        newPlayers = newPlayers.append(Player(name,team,year,skills,bDay))\n",
    "        \n",
    "    return newPlayers\n",
    "    \n",
    "draft(2,2)\n"
   ]
  },
  {
   "cell_type": "code",
   "execution_count": null,
   "id": "e1845a04",
   "metadata": {},
   "outputs": [],
   "source": []
  },
  {
   "cell_type": "code",
   "execution_count": null,
   "id": "56033fe9",
   "metadata": {},
   "outputs": [],
   "source": []
  }
 ],
 "metadata": {
  "kernelspec": {
   "display_name": "Python 3 (ipykernel)",
   "language": "python",
   "name": "python3"
  },
  "language_info": {
   "codemirror_mode": {
    "name": "ipython",
    "version": 3
   },
   "file_extension": ".py",
   "mimetype": "text/x-python",
   "name": "python",
   "nbconvert_exporter": "python",
   "pygments_lexer": "ipython3",
   "version": "3.8.10"
  }
 },
 "nbformat": 4,
 "nbformat_minor": 5
}
