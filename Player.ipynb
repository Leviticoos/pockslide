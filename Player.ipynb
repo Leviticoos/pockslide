{
 "cells": [
  {
   "cell_type": "code",
   "execution_count": 24,
   "id": "40027b30",
   "metadata": {},
   "outputs": [],
   "source": [
    "players = []"
   ]
  },
  {
   "cell_type": "code",
   "execution_count": 25,
   "id": "8665e487",
   "metadata": {},
   "outputs": [],
   "source": [
    "class Player:\n",
    "    \n",
    "    def __init__(self,name,team,draft,skills,bDay):\n",
    "        self.name = name\n",
    "        self.team = team\n",
    "        self.draft = draft\n",
    "        self.skills = skills\n",
    "        self.bDay = bDay\n",
    "        \n",
    "    def setteam(self, newteam):\n",
    "        self.team = newteam\n",
    "        \n",
    "    def updateskills(self,newskills):\n",
    "        self.skills = newskills\n",
    "        \n",
    "    def getskills(self):\n",
    "        return self.skills\n",
    "    \n",
    "    def getInfo(self):\n",
    "        readout = str(self.name)\n",
    "        return readout"
   ]
  },
  {
   "cell_type": "code",
   "execution_count": 30,
   "id": "bcd4a549",
   "metadata": {},
   "outputs": [
    {
     "name": "stdout",
     "output_type": "stream",
     "text": [
      "norbil samnorstorsam\n",
      "stor norkrim\n"
     ]
    },
    {
     "ename": "TypeError",
     "evalue": "'list' object is not callable",
     "output_type": "error",
     "traceback": [
      "\u001b[0;31m---------------------------------------------------------------------------\u001b[0m",
      "\u001b[0;31mTypeError\u001b[0m                                 Traceback (most recent call last)",
      "Input \u001b[0;32mIn [30]\u001b[0m, in \u001b[0;36m<cell line: 37>\u001b[0;34m()\u001b[0m\n\u001b[1;32m     34\u001b[0m     \u001b[38;5;28;01mreturn\u001b[39;00m newPlayers\n\u001b[1;32m     36\u001b[0m players \u001b[38;5;241m=\u001b[39m (draft(\u001b[38;5;241m2\u001b[39m,\u001b[38;5;241m2\u001b[39m))\n\u001b[0;32m---> 37\u001b[0m \u001b[38;5;28mprint\u001b[39m(\u001b[43mplayers\u001b[49m\u001b[43m(\u001b[49m\u001b[38;5;241;43m1\u001b[39;49m\u001b[43m)\u001b[49m\u001b[38;5;241m.\u001b[39mgetInfo())\n",
      "\u001b[0;31mTypeError\u001b[0m: 'list' object is not callable"
     ]
    }
   ],
   "source": [
    "import random\n",
    "\n",
    "def draft(num_Players, year):\n",
    "    sylables = [\"nor\",\"bil\",\"man\",\"sam\",\"poe\",\"krim\",\"stor\"]\n",
    "    newPlayers=[]\n",
    "    for i in range(0,num_Players):\n",
    "        name = \"\"\n",
    "        count = random.randint(1,3)\n",
    "        for j in range(0,count):\n",
    "            k = random.randint(0, len(sylables)-1)\n",
    "            name += sylables[k]\n",
    "        name += \" \"\n",
    "        count = random.randint(2,5)    \n",
    "        for j in range(0,count):\n",
    "            k = random.randint(0, len(sylables)-1)\n",
    "            name += sylables[k]\n",
    "        speed = random.random()\n",
    "        dex = random.random()\n",
    "        strength = random.random()\n",
    "        arm = random.random()\n",
    "        leg = random.random()\n",
    "        smarts = random.random()\n",
    "        luck = random.random()\n",
    "        risk = random.random()\n",
    "        \n",
    "        skills = [speed, dex, strength, arm, leg, smarts, luck, risk]\n",
    "        team = \"free\"\n",
    "        bDay = [random.randint(1,7),random.randint(1,21),year-random.randint(17,22)]\n",
    "        \n",
    "        newPlayer = Player(name,team,year,skills,bDay)\n",
    "        print(newPlayer.getInfo())\n",
    "        newPlayers = [newPlayer] if (newPlayers == []) else [newPlayers, newPlayer]\n",
    "        \n",
    "    return newPlayers\n",
    "    \n",
    "players = (draft(2,2))\n",
    "print(players(1).getInfo())"
   ]
  },
  {
   "cell_type": "code",
   "execution_count": null,
   "id": "e1845a04",
   "metadata": {},
   "outputs": [],
   "source": []
  },
  {
   "cell_type": "code",
   "execution_count": null,
   "id": "56033fe9",
   "metadata": {},
   "outputs": [],
   "source": []
  }
 ],
 "metadata": {
  "kernelspec": {
   "display_name": "Python 3 (ipykernel)",
   "language": "python",
   "name": "python3"
  },
  "language_info": {
   "codemirror_mode": {
    "name": "ipython",
    "version": 3
   },
   "file_extension": ".py",
   "mimetype": "text/x-python",
   "name": "python",
   "nbconvert_exporter": "python",
   "pygments_lexer": "ipython3",
   "version": "3.8.10"
  }
 },
 "nbformat": 4,
 "nbformat_minor": 5
}
