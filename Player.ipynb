{
 "cells": [
  {
   "cell_type": "code",
   "execution_count": 28,
   "id": "40027b30",
   "metadata": {},
   "outputs": [],
   "source": [
    "import random"
   ]
  },
  {
   "cell_type": "code",
   "execution_count": 29,
   "id": "8665e487",
   "metadata": {},
   "outputs": [],
   "source": [
    "class Player:\n",
    "    \n",
    "    #Skills consist of the following in order, which are floats between 0 and 1:\n",
    "    ##Speed, Dex, Strength, Arm, Leg, Smarts, Luck, Risk\n",
    "    \n",
    "    #Stats consist of the following in order\n",
    "    ##\n",
    "    \n",
    "    def __init__(self,name,team,draft,skills,stats,bDay):\n",
    "        self.name = name\n",
    "        self.team = team\n",
    "        self.draft = draft\n",
    "        self.skills = skills\n",
    "        self.stats = stats\n",
    "        self.bDay = bDay\n",
    "        \n",
    "    def setTeam(self, newteam):\n",
    "        self.team = newteam\n",
    "        \n",
    "    def updateSkills(self,newskills):\n",
    "        self.skills = newskills\n",
    "        \n",
    "    def getTeam(self):\n",
    "        return self.team\n",
    "    \n",
    "    def getSkills(self):\n",
    "        return self.skills\n",
    "    \n",
    "    def getStats(self):\n",
    "        return self.stats\n",
    "    \n",
    "    def getBio(self):\n",
    "        readout = str(self.name)\n",
    "        readout += \" Strength: \" + str(self.skills[1])\n",
    "        return readout"
   ]
  },
  {
   "cell_type": "code",
   "execution_count": 30,
   "id": "64e31137",
   "metadata": {},
   "outputs": [],
   "source": [
    "class Club:\n",
    "    #Each club has\n",
    "    ##name, which is what it says\n",
    "    ##players, a list of player objects that are in its clubhouse\n",
    "    ##coach, a coach with \n",
    "    def __init__(self, name, roster, pref, stats, coach):\n",
    "        self.name = name\n",
    "        self.roster = roster\n",
    "        self.pref = pref\n",
    "        self.stats = stats\n",
    "        self.coach = coach\n",
    "        \n",
    "    def getPref(self):\n",
    "        return self.Pref\n",
    "    \n",
    "    def assignPlayer(self, newPlayer):\n",
    "        oldTeam = getTeam(player)\n",
    "        oldTeam.removePlayer(player)\n",
    "        self.roster = self.roster.append(newPlayer)\n",
    "        newPlayer.setTeam(self.name)\n",
    "        \n",
    "    def removePlayer(self, player):\n",
    "        self.roster.remove(player)"
   ]
  },
  {
   "cell_type": "code",
   "execution_count": 31,
   "id": "8f844d93",
   "metadata": {},
   "outputs": [],
   "source": [
    "class Coach:\n",
    "    \n",
    "    def __init__(self, name, team, pref):\n",
    "        self.name = name\n",
    "        self.team = team\n",
    "        self.pref = pref\n",
    "        \n",
    "    def getPref(self):\n",
    "        return self.Pref"
   ]
  },
  {
   "cell_type": "code",
   "execution_count": 38,
   "id": "bcd4a549",
   "metadata": {},
   "outputs": [],
   "source": [
    "def draftClass(num_Players, year):\n",
    "    sylables = [\"nor\",\"bil\",\"man\",\"sam\",\"poe\",\"krim\",\"stor\",\"fin\",\"turg\"]\n",
    "    newPlayers=[]\n",
    "    for i in range(0,num_Players):\n",
    "        name = \"\"\n",
    "        count = random.randint(1,3)\n",
    "        for j in range(0,count):\n",
    "            k = random.randint(0, len(sylables)-1)\n",
    "            name += sylables[k]\n",
    "        name += \" \"\n",
    "        count = random.randint(2,5)    \n",
    "        for j in range(0,count):\n",
    "            k = random.randint(0, len(sylables)-1)\n",
    "            name += sylables[k]\n",
    "        speed = random.random()\n",
    "        dex = random.random()\n",
    "        strength = random.random()\n",
    "        arm = random.random()\n",
    "        leg = random.random()\n",
    "        smarts = random.random()\n",
    "        luck = random.random()\n",
    "        risk = random.random()\n",
    "        \n",
    "        \n",
    "        \n",
    "        skills = [speed, dex, strength, arm, leg, smarts, luck, risk]\n",
    "        team = \"free\"\n",
    "        bDay = [random.randint(1,7),random.randint(1,21),year-random.randint(17,22)]\n",
    "        stats = []\n",
    "        \n",
    "        newPlayer = Player(name,team,year,skills,stats,bDay)\n",
    "        newPlayers.append(newPlayer)\n",
    "        \n",
    "    return newPlayers"
   ]
  },
  {
   "cell_type": "code",
   "execution_count": 42,
   "id": "e1845a04",
   "metadata": {},
   "outputs": [],
   "source": [
    "Clubs = []\n",
    "Coaches = []\n",
    "Players = []\n",
    "\n",
    "Players = Players.append(draftClass(20,0))\n",
    "\n",
    "Clubs.append(Club(\"Crestville Crawdaddies\", [], [], [], []))\n",
    "Clubs.append(Club(\"Highland Highlanders\", [],[],[],[]))\n"
   ]
  },
  {
   "cell_type": "code",
   "execution_count": null,
   "id": "56033fe9",
   "metadata": {},
   "outputs": [],
   "source": []
  }
 ],
 "metadata": {
  "kernelspec": {
   "display_name": "Python 3 (ipykernel)",
   "language": "python",
   "name": "python3"
  },
  "language_info": {
   "codemirror_mode": {
    "name": "ipython",
    "version": 3
   },
   "file_extension": ".py",
   "mimetype": "text/x-python",
   "name": "python",
   "nbconvert_exporter": "python",
   "pygments_lexer": "ipython3",
   "version": "3.8.10"
  }
 },
 "nbformat": 4,
 "nbformat_minor": 5
}
