{
 "cells": [
  {
   "cell_type": "code",
   "execution_count": 1,
   "metadata": {},
   "outputs": [],
   "source": [
    "import numpy as np\n",
    "\n",
    "import pocksward as pk\n",
    "import time as time\n",
    "\n",
    "#Keep this as long as lenses.py is being edited TODO delete once done\n",
    "from importlib import reload  # Python 3.4+\n",
    "pk = reload(pk)"
   ]
  },
  {
   "cell_type": "code",
   "execution_count": 2,
   "metadata": {},
   "outputs": [
    {
     "name": "stdout",
     "output_type": "stream",
     "text": [
      "[1 0 0 0] [0.70710678 0.70710678 0.         0.        ] [0.70710678 0.70710678 0.         0.        ]\n"
     ]
    }
   ],
   "source": [
    "testMan = pk.Player(\"Gregg\", [1,0,0,0], 0, 0)\n",
    "saveOfTestMan = testMan\n",
    "saveOfTestManSklVct = testMan.getSklVct()\n",
    "testMan.changeSklVct([0,1,0,0])\n",
    "print(saveOfTestManSklVct, saveOfTestMan.getSklVct(), testMan.getSklVct())\n"
   ]
  },
  {
   "cell_type": "code",
   "execution_count": 3,
   "metadata": {},
   "outputs": [
    {
     "ename": "AttributeError",
     "evalue": "module 'pocksward' has no attribute 'Check'",
     "output_type": "error",
     "traceback": [
      "\u001b[1;31m---------------------------------------------------------------------------\u001b[0m",
      "\u001b[1;31mAttributeError\u001b[0m                            Traceback (most recent call last)",
      "Cell \u001b[1;32mIn[3], line 5\u001b[0m\n\u001b[0;32m      2\u001b[0m zCrew \u001b[38;5;241m=\u001b[39m pk\u001b[38;5;241m.\u001b[39mTeam(pk\u001b[38;5;241m.\u001b[39mCoach(), [pk\u001b[38;5;241m.\u001b[39mPlayer(\u001b[38;5;124m\"\u001b[39m\u001b[38;5;124mZ\u001b[39m\u001b[38;5;124m\"\u001b[39m, pk\u001b[38;5;241m.\u001b[39mnormalize([\u001b[38;5;241m1\u001b[39m,\u001b[38;5;241m1\u001b[39m,\u001b[38;5;241m1\u001b[39m,\u001b[38;5;241m1\u001b[39m]),\u001b[38;5;241m0\u001b[39m,\u001b[38;5;241m0\u001b[39m), pk\u001b[38;5;241m.\u001b[39mPlayer(\u001b[38;5;124m\"\u001b[39m\u001b[38;5;124mZ\u001b[39m\u001b[38;5;124m\"\u001b[39m, pk\u001b[38;5;241m.\u001b[39mnormalize([\u001b[38;5;241m1\u001b[39m,\u001b[38;5;241m1\u001b[39m,\u001b[38;5;241m1\u001b[39m,\u001b[38;5;241m1\u001b[39m]),\u001b[38;5;241m0\u001b[39m,\u001b[38;5;241m0\u001b[39m), pk\u001b[38;5;241m.\u001b[39mPlayer(\u001b[38;5;124m\"\u001b[39m\u001b[38;5;124mZ\u001b[39m\u001b[38;5;124m\"\u001b[39m, pk\u001b[38;5;241m.\u001b[39mnormalize([\u001b[38;5;241m1\u001b[39m,\u001b[38;5;241m1\u001b[39m,\u001b[38;5;241m1\u001b[39m,\u001b[38;5;241m1\u001b[39m]),\u001b[38;5;241m0\u001b[39m,\u001b[38;5;241m0\u001b[39m), pk\u001b[38;5;241m.\u001b[39mPlayer(\u001b[38;5;124m\"\u001b[39m\u001b[38;5;124mZ\u001b[39m\u001b[38;5;124m\"\u001b[39m, pk\u001b[38;5;241m.\u001b[39mnormalize([\u001b[38;5;241m1\u001b[39m,\u001b[38;5;241m1\u001b[39m,\u001b[38;5;241m1\u001b[39m,\u001b[38;5;241m1\u001b[39m]),\u001b[38;5;241m0\u001b[39m,\u001b[38;5;241m0\u001b[39m), pk\u001b[38;5;241m.\u001b[39mPlayer(\u001b[38;5;124m\"\u001b[39m\u001b[38;5;124mZ\u001b[39m\u001b[38;5;124m\"\u001b[39m, pk\u001b[38;5;241m.\u001b[39mnormalize([\u001b[38;5;241m1\u001b[39m,\u001b[38;5;241m1\u001b[39m,\u001b[38;5;241m1\u001b[39m,\u001b[38;5;241m1\u001b[39m]),\u001b[38;5;241m0\u001b[39m,\u001b[38;5;241m0\u001b[39m)])\n\u001b[0;32m      3\u001b[0m dougDougField \u001b[38;5;241m=\u001b[39m pk\u001b[38;5;241m.\u001b[39mFairground(\u001b[38;5;124m\"\u001b[39m\u001b[38;5;124mDougDoug Field\u001b[39m\u001b[38;5;124m\"\u001b[39m, pk\u001b[38;5;241m.\u001b[39mnormalize([\u001b[38;5;241m0\u001b[39m,\u001b[38;5;241m1\u001b[39m,\u001b[38;5;241m1\u001b[39m,\u001b[38;5;241m0\u001b[39m]), \u001b[38;5;241m101.456\u001b[39m)\n\u001b[1;32m----> 5\u001b[0m testGame \u001b[38;5;241m=\u001b[39m \u001b[43mpk\u001b[49m\u001b[38;5;241;43m.\u001b[39;49m\u001b[43mGame\u001b[49m\u001b[43m(\u001b[49m\u001b[43maCrew\u001b[49m\u001b[43m,\u001b[49m\u001b[43m \u001b[49m\u001b[43mzCrew\u001b[49m\u001b[43m,\u001b[49m\u001b[43m \u001b[49m\u001b[43mdougDougField\u001b[49m\u001b[43m,\u001b[49m\u001b[43m \u001b[49m\u001b[38;5;241;43m0\u001b[39;49m\u001b[43m)\u001b[49m\n\u001b[0;32m      6\u001b[0m \u001b[38;5;28;01mfor\u001b[39;00m i \u001b[38;5;129;01min\u001b[39;00m \u001b[38;5;28mrange\u001b[39m(\u001b[38;5;241m0\u001b[39m, \u001b[38;5;241m50\u001b[39m):\n\u001b[0;32m      7\u001b[0m     gameStateSimmed  \u001b[38;5;241m=\u001b[39m testGame\u001b[38;5;241m.\u001b[39mrun()\n",
      "File \u001b[1;32md:\\pockslide-main (5)\\pockslide-main\\pocksward\\game.py:116\u001b[0m, in \u001b[0;36mGame.__init__\u001b[1;34m(self, homeTeam, awayTeam, fairground, startTimeSST)\u001b[0m\n\u001b[0;32m    112\u001b[0m \u001b[38;5;28mself\u001b[39m\u001b[38;5;241m.\u001b[39mplayVct \u001b[38;5;241m=\u001b[39m [\u001b[38;5;241m0\u001b[39m,\u001b[38;5;241m0\u001b[39m,\u001b[38;5;241m0\u001b[39m,\u001b[38;5;241m0\u001b[39m]\n\u001b[0;32m    114\u001b[0m \u001b[38;5;66;03m#define Checks\u001b[39;00m\n\u001b[0;32m    115\u001b[0m \u001b[38;5;66;03m#scramble Chekcks\u001b[39;00m\n\u001b[1;32m--> 116\u001b[0m \u001b[38;5;28mself\u001b[39m\u001b[38;5;241m.\u001b[39mslideChk   \u001b[38;5;241m=\u001b[39m \u001b[43mpk\u001b[49m\u001b[38;5;241;43m.\u001b[39;49m\u001b[43mCheck\u001b[49m([[\u001b[38;5;241m1\u001b[39m,\u001b[38;5;241m0\u001b[39m,\u001b[38;5;241m0\u001b[39m,\u001b[38;5;241m0\u001b[39m],[\u001b[38;5;241m0\u001b[39m,\u001b[38;5;241m1\u001b[39m,\u001b[38;5;241m0\u001b[39m,\u001b[38;5;241m0\u001b[39m],[\u001b[38;5;241m0\u001b[39m,\u001b[38;5;241m0\u001b[39m,\u001b[38;5;241m1\u001b[39m,\u001b[38;5;241m0\u001b[39m],[\u001b[38;5;241m0\u001b[39m,\u001b[38;5;241m0\u001b[39m,\u001b[38;5;241m0\u001b[39m,\u001b[38;5;241m1\u001b[39m]], \u001b[38;5;241m3\u001b[39m, \u001b[38;5;241m1\u001b[39m, n\u001b[38;5;241m=\u001b[39m\u001b[38;5;241m3\u001b[39m)\n\u001b[0;32m    117\u001b[0m \u001b[38;5;28mself\u001b[39m\u001b[38;5;241m.\u001b[39mclinkChk   \u001b[38;5;241m=\u001b[39m pk\u001b[38;5;241m.\u001b[39mCheck([[\u001b[38;5;241m1\u001b[39m,\u001b[38;5;241m0\u001b[39m,\u001b[38;5;241m0\u001b[39m,\u001b[38;5;241m0\u001b[39m],[\u001b[38;5;241m0\u001b[39m,\u001b[38;5;241m1\u001b[39m,\u001b[38;5;241m0\u001b[39m,\u001b[38;5;241m0\u001b[39m],[\u001b[38;5;241m0\u001b[39m,\u001b[38;5;241m0\u001b[39m,\u001b[38;5;241m1\u001b[39m,\u001b[38;5;241m0\u001b[39m],[\u001b[38;5;241m0\u001b[39m,\u001b[38;5;241m0\u001b[39m,\u001b[38;5;241m0\u001b[39m,\u001b[38;5;241m1\u001b[39m]], \u001b[38;5;241m3\u001b[39m, \u001b[38;5;241m1\u001b[39m, n\u001b[38;5;241m=\u001b[39m\u001b[38;5;241m3\u001b[39m)\n\u001b[0;32m    118\u001b[0m \u001b[38;5;28mself\u001b[39m\u001b[38;5;241m.\u001b[39mhitch      \u001b[38;5;241m=\u001b[39m pk\u001b[38;5;241m.\u001b[39mcontinuousCheck([\u001b[38;5;241m1\u001b[39m,\u001b[38;5;241m0\u001b[39m,\u001b[38;5;241m0\u001b[39m,\u001b[38;5;241m0\u001b[39m], \u001b[38;5;241m10\u001b[39m, \u001b[38;5;241m80\u001b[39m, [\u001b[38;5;241m0\u001b[39m,\u001b[38;5;241m1\u001b[39m,\u001b[38;5;241m0\u001b[39m,\u001b[38;5;241m0\u001b[39m], \u001b[38;5;241m20\u001b[39m, \u001b[38;5;241m0\u001b[39m)\n",
      "\u001b[1;31mAttributeError\u001b[0m: module 'pocksward' has no attribute 'Check'"
     ]
    }
   ],
   "source": [
    "aCrew = pk.Team(pk.Coach(), [pk.Player(\"A\", pk.normalize([1,1,1,1]),0,0), pk.Player(\"A\", pk.normalize([1,1,1,1]),0,0), pk.Player(\"A\", pk.normalize([1,1,1,1]),0,0), pk.Player(\"A\", pk.normalize([1,1,1,1]),0,0), pk.Player(\"A\", pk.normalize([1,1,1,1]),0,0)])\n",
    "zCrew = pk.Team(pk.Coach(), [pk.Player(\"Z\", pk.normalize([1,1,1,1]),0,0), pk.Player(\"Z\", pk.normalize([1,1,1,1]),0,0), pk.Player(\"Z\", pk.normalize([1,1,1,1]),0,0), pk.Player(\"Z\", pk.normalize([1,1,1,1]),0,0), pk.Player(\"Z\", pk.normalize([1,1,1,1]),0,0)])\n",
    "dougDougField = pk.Fairground(\"DougDoug Field\", pk.normalize([0,1,1,0]), 101.456)\n",
    "\n",
    "testGame = pk.Game(aCrew, zCrew, dougDougField, 0)\n",
    "for i in range(0, 50):\n",
    "    gameStateSimmed  = testGame.run()\n",
    "    waitTime = 0.1\n",
    "    time.sleep(waitTime)\n",
    "    print(gameStateSimmed)\n",
    "    \n",
    "    \n",
    "    \n",
    "\n"
   ]
  }
 ],
 "metadata": {
  "kernelspec": {
   "display_name": "Python 3",
   "language": "python",
   "name": "python3"
  },
  "language_info": {
   "codemirror_mode": {
    "name": "ipython",
    "version": 3
   },
   "file_extension": ".py",
   "mimetype": "text/x-python",
   "name": "python",
   "nbconvert_exporter": "python",
   "pygments_lexer": "ipython3",
   "version": "3.11.7"
  }
 },
 "nbformat": 4,
 "nbformat_minor": 2
}
