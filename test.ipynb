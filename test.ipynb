{
 "cells": [
  {
   "cell_type": "code",
   "execution_count": 11,
   "metadata": {},
   "outputs": [],
   "source": [
    "import numpy as np\n",
    "\n",
    "import pocksward as pk\n",
    "import game as gm\n",
    "import time as time\n",
    "\n",
    "#Keep this as long as lenses.py is being edited TODO delete once done\n",
    "from importlib import reload  # Python 3.4+\n",
    "pk = reload(pk)\n",
    "gm = reload(gm)"
   ]
  },
  {
   "cell_type": "markdown",
   "metadata": {},
   "source": []
  },
  {
   "cell_type": "code",
   "execution_count": null,
   "metadata": {},
   "outputs": [],
   "source": [
    "throw = pk.Check([[1,0,0,0],[0,1,0,0],[0,0,1,0],[0,0,0,1]])\n",
    "\n",
    "outcome, prob, roll, vct = throw.run([np.sqrt(.5),np.sqrt(0.5),0,0],[0,np.sqrt(0.5),np.sqrt(0.5),0],[0.5,.5,0,0],verbose=True)\n",
    "\n",
    "print(outcome, prob, roll, vct)\n",
    "\n",
    "x = 1\n",
    "vct = [x, 34]\n",
    "print(vct)\n",
    "x=3\n",
    "print(vct)"
   ]
  },
  {
   "cell_type": "code",
   "execution_count": null,
   "metadata": {},
   "outputs": [],
   "source": [
    "hit = pk.continuousCheck([1,0,0,0], 10, 100, [0,1,0,0], 5, 10)\n",
    "\n",
    "distance = hit.run([np.sqrt(.5), np.sqrt(0.5), 0, 0])\n",
    "print(distance)\n",
    "\n",
    "print(pk.normalize([2,1]))"
   ]
  },
  {
   "cell_type": "code",
   "execution_count": 12,
   "metadata": {},
   "outputs": [
    {
     "name": "stdout",
     "output_type": "stream",
     "text": [
      "6\n",
      "(True, [<GameStateEnum.preGame: 1>, 0, 1, False, [0, 0], 0], 6)\n",
      "0.5\n",
      "(False, [], 0.5)\n",
      "4.097540633969197\n",
      "(True, [<GameStateEnum.slide: 2>, 1, 1, True, [0, 0], 4.097540633969197], 4.097540633969197)\n",
      "3.8357377592716255\n",
      "(True, [<GameStateEnum.clink: 3>, 1, 1, True, [0, 0], 7.933278393240823], 3.8357377592716255)\n",
      "3\n",
      "(74.95029568523286, [<GameStateEnum.hitch: 16>, 1, 1, True, [0, 0], 74.95029568523286, 7.933278393240823], 3)\n",
      "0.5\n",
      "(False, [], 0.5)\n",
      "1.1310379627494167\n",
      "(True, [<GameStateEnum.slide: 2>, 1, 1, False, [0, 0], 9.06431635599024], 1.1310379627494167)\n",
      "3.066749739331505\n",
      "(True, [<GameStateEnum.clink: 3>, 1, 1, False, [0, 0], 12.131066095321746], 3.066749739331505)\n",
      "3\n",
      "(90.07787664669884, [<GameStateEnum.hitch: 16>, 1, 1, False, [0, 0], -15.12758096146598, 12.131066095321746], 3)\n",
      "0.5\n",
      "(False, [], 0.5)\n",
      "7.64899396189275\n",
      "(True, [<GameStateEnum.slide: 2>, 2, 1, True, [0, 0], 19.780060057214495], 7.64899396189275)\n",
      "4.1728787679917065\n",
      "(False, [<GameStateEnum.clink: 3>, 2, 1, True, [0, 0], 23.952938825206203], 4.1728787679917065)\n",
      "0.5\n",
      "(False, [], 0.5)\n",
      "5.488774513142896\n",
      "(True, [<GameStateEnum.slide: 2>, 3, 1, False, [0, 0], 29.4417133383491], 5.488774513142896)\n",
      "3.5817117766176576\n",
      "(True, [<GameStateEnum.clink: 3>, 3, 1, False, [0, 0], 33.023425114966756], 3.5817117766176576)\n",
      "3\n",
      "(82.94184524936759, [<GameStateEnum.hitch: 16>, 3, 1, False, [0, 0], -98.06942621083357, 33.023425114966756], 3)\n",
      "0.5\n",
      "(False, [], 0.5)\n",
      "2.5221507780093315\n",
      "(True, [<GameStateEnum.slide: 2>, 4, 1, True, [0, 0], 35.54557589297609], 2.5221507780093315)\n",
      "1.4681199607966777\n",
      "(True, [<GameStateEnum.clink: 3>, 4, 1, True, [0, 0], 37.01369585377277], 1.4681199607966777)\n",
      "3\n",
      "(112.49428187530216, [<GameStateEnum.hitch: 16>, 4, 1, True, [0, 0], 14.424855664468595, 37.01369585377277], 3)\n",
      "0.5\n",
      "(False, [], 0.5)\n",
      "3.100773459319386\n",
      "(True, [<GameStateEnum.slide: 2>, 4, 1, False, [0, 0], 40.11446931309215], 3.100773459319386)\n",
      "3.1076247353900293\n",
      "(True, [<GameStateEnum.clink: 3>, 4, 1, False, [0, 0], 43.22209404848218], 3.1076247353900293)\n",
      "3\n",
      "(72.96746465840182, [<GameStateEnum.hitch: 16>, 4, 1, False, [0, 0], -58.54260899393323, 43.22209404848218], 3)\n",
      "0.5\n",
      "(False, [], 0.5)\n",
      "3.9148634122232875\n",
      "(True, [<GameStateEnum.slide: 2>, 5, 1, True, [0, 0], 47.13695746070547], 3.9148634122232875)\n",
      "3.3866111859439703\n",
      "(True, [<GameStateEnum.clink: 3>, 5, 1, True, [0, 0], 50.52356864664944], 3.3866111859439703)\n",
      "3\n",
      "(92.33696018981236, [<GameStateEnum.hitch: 16>, 5, 1, True, [0, 0], 33.79435119587913, 50.52356864664944], 3)\n",
      "0.5\n",
      "(False, [], 0.5)\n",
      "3.5726929913904275\n",
      "(True, [<GameStateEnum.slide: 2>, 5, 1, False, [0, 0], 54.09626163803986], 3.5726929913904275)\n",
      "1.8049711748465276\n",
      "(False, [<GameStateEnum.clink: 3>, 5, 1, False, [0, 0], 55.90123281288639], 1.8049711748465276)\n",
      "0.5\n",
      "(False, [], 0.5)\n"
     ]
    },
    {
     "ename": "TypeError",
     "evalue": "cannot unpack non-iterable numpy.float64 object",
     "output_type": "error",
     "traceback": [
      "\u001b[1;31m---------------------------------------------------------------------------\u001b[0m",
      "\u001b[1;31mTypeError\u001b[0m                                 Traceback (most recent call last)",
      "\u001b[1;32mc:\\Users\\Levi Rhoden\\Desktop\\Europa Lost\\pockslide\\test.ipynb Cell 5\u001b[0m line \u001b[0;36m9\n\u001b[0;32m      <a href='vscode-notebook-cell:/c%3A/Users/Levi%20Rhoden/Desktop/Europa%20Lost/pockslide/test.ipynb#W4sZmlsZQ%3D%3D?line=6'>7</a>\u001b[0m out \u001b[39m=\u001b[39m testGame\u001b[39m.\u001b[39mrun()\n\u001b[0;32m      <a href='vscode-notebook-cell:/c%3A/Users/Levi%20Rhoden/Desktop/Europa%20Lost/pockslide/test.ipynb#W4sZmlsZQ%3D%3D?line=7'>8</a>\u001b[0m \u001b[39mif\u001b[39;00m out \u001b[39m!=\u001b[39m \u001b[39m0\u001b[39m:\n\u001b[1;32m----> <a href='vscode-notebook-cell:/c%3A/Users/Levi%20Rhoden/Desktop/Europa%20Lost/pockslide/test.ipynb#W4sZmlsZQ%3D%3D?line=8'>9</a>\u001b[0m     result, outVct, waitTime \u001b[39m=\u001b[39m out\n\u001b[0;32m     <a href='vscode-notebook-cell:/c%3A/Users/Levi%20Rhoden/Desktop/Europa%20Lost/pockslide/test.ipynb#W4sZmlsZQ%3D%3D?line=9'>10</a>\u001b[0m \u001b[39melse\u001b[39;00m:\n\u001b[0;32m     <a href='vscode-notebook-cell:/c%3A/Users/Levi%20Rhoden/Desktop/Europa%20Lost/pockslide/test.ipynb#W4sZmlsZQ%3D%3D?line=10'>11</a>\u001b[0m     outVct \u001b[39m=\u001b[39m \u001b[39m0\u001b[39m\n",
      "\u001b[1;31mTypeError\u001b[0m: cannot unpack non-iterable numpy.float64 object"
     ]
    }
   ],
   "source": [
    "aCrew = pk.Team(pk.Coach(), [pk.Player(\"A\", pk.normalize([1,1,1,1]),0,0), pk.Player(\"A\", pk.normalize([1,1,1,1]),0,0), pk.Player(\"A\", pk.normalize([1,1,1,1]),0,0), pk.Player(\"A\", pk.normalize([1,1,1,1]),0,0), pk.Player(\"A\", pk.normalize([1,1,1,1]),0,0)])\n",
    "zCrew = pk.Team(pk.Coach(), [pk.Player(\"Z\", pk.normalize([1,1,1,1]),0,0), pk.Player(\"Z\", pk.normalize([1,1,1,1]),0,0), pk.Player(\"Z\", pk.normalize([1,1,1,1]),0,0), pk.Player(\"Z\", pk.normalize([1,1,1,1]),0,0), pk.Player(\"Z\", pk.normalize([1,1,1,1]),0,0)])\n",
    "dougDougField = pk.Fairground(\"DougDoug Field\", pk.normalize([0,1,1,0]))\n",
    "\n",
    "testGame = gm.Game(aCrew, zCrew, dougDougField, 0)\n",
    "for i in range(0, 50):\n",
    "    out = testGame.run()\n",
    "    if out != 0:\n",
    "        result, outVct, waitTime = out\n",
    "    else:\n",
    "        outVct = 0\n",
    "        waitTime = 0\n",
    "    print(waitTime)\n",
    "    time.sleep(waitTime)\n",
    "    print(out)\n",
    "    \n",
    "    \n",
    "    \n",
    "\n"
   ]
  }
 ],
 "metadata": {
  "kernelspec": {
   "display_name": "Python 3",
   "language": "python",
   "name": "python3"
  },
  "language_info": {
   "codemirror_mode": {
    "name": "ipython",
    "version": 3
   },
   "file_extension": ".py",
   "mimetype": "text/x-python",
   "name": "python",
   "nbconvert_exporter": "python",
   "pygments_lexer": "ipython3",
   "version": "3.11.6"
  }
 },
 "nbformat": 4,
 "nbformat_minor": 2
}
