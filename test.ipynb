{
 "cells": [
  {
   "cell_type": "code",
   "execution_count": 1,
   "metadata": {},
   "outputs": [],
   "source": [
    "import numpy as np\n",
    "\n",
    "import pocksward as pk\n",
    "import game as gm\n",
    "import time as time\n",
    "\n",
    "#Keep this as long as lenses.py is being edited TODO delete once done\n",
    "from importlib import reload  # Python 3.4+\n",
    "pk = reload(pk)\n",
    "gm = reload(gm)"
   ]
  },
  {
   "cell_type": "markdown",
   "metadata": {},
   "source": []
  },
  {
   "cell_type": "code",
   "execution_count": 8,
   "metadata": {},
   "outputs": [
    {
     "name": "stdout",
     "output_type": "stream",
     "text": [
      "False 0.25 0.5899903566178543 [0.         0.35355339 0.         0.        ]\n",
      "[1, 34]\n",
      "[1, 34]\n"
     ]
    }
   ],
   "source": [
    "throw = pk.Check([[1,0,0,0],[0,1,0,0],[0,0,1,0],[0,0,0,1]])\n",
    "\n",
    "outcome, prob, roll, vct = throw.run([np.sqrt(.5),np.sqrt(0.5),0,0],[0,np.sqrt(0.5),np.sqrt(0.5),0],[0.5,.5,0,0],verbose=True)\n",
    "\n",
    "print(outcome, prob, roll, vct)\n",
    "\n",
    "x = 1\n",
    "vct = [x, 34]\n",
    "print(vct)\n",
    "x=3\n",
    "print(vct)"
   ]
  },
  {
   "cell_type": "code",
   "execution_count": 13,
   "metadata": {},
   "outputs": [
    {
     "ename": "AttributeError",
     "evalue": "'builtin_function_or_method' object has no attribute 'normal'",
     "output_type": "error",
     "traceback": [
      "\u001b[1;31m---------------------------------------------------------------------------\u001b[0m",
      "\u001b[1;31mAttributeError\u001b[0m                            Traceback (most recent call last)",
      "\u001b[1;32mc:\\Users\\lrhoden\\Downloads\\pockslide-main (1)\\pockslide-main\\test.ipynb Cell 4\u001b[0m line \u001b[0;36m3\n\u001b[0;32m      <a href='vscode-notebook-cell:/c%3A/Users/lrhoden/Downloads/pockslide-main%20%281%29/pockslide-main/test.ipynb#W3sZmlsZQ%3D%3D?line=0'>1</a>\u001b[0m hit \u001b[39m=\u001b[39m pk\u001b[39m.\u001b[39mcontinuousCheck([\u001b[39m1\u001b[39m,\u001b[39m0\u001b[39m,\u001b[39m0\u001b[39m,\u001b[39m0\u001b[39m], \u001b[39m10\u001b[39m, \u001b[39m100\u001b[39m, [\u001b[39m0\u001b[39m,\u001b[39m1\u001b[39m,\u001b[39m0\u001b[39m,\u001b[39m0\u001b[39m], \u001b[39m5\u001b[39m, \u001b[39m10\u001b[39m)\n\u001b[1;32m----> <a href='vscode-notebook-cell:/c%3A/Users/lrhoden/Downloads/pockslide-main%20%281%29/pockslide-main/test.ipynb#W3sZmlsZQ%3D%3D?line=2'>3</a>\u001b[0m distance \u001b[39m=\u001b[39m hit\u001b[39m.\u001b[39;49mrun([np\u001b[39m.\u001b[39;49msqrt(\u001b[39m.5\u001b[39;49m), np\u001b[39m.\u001b[39;49msqrt(\u001b[39m0.5\u001b[39;49m), \u001b[39m0\u001b[39;49m, \u001b[39m0\u001b[39;49m])\n\u001b[0;32m      <a href='vscode-notebook-cell:/c%3A/Users/lrhoden/Downloads/pockslide-main%20%281%29/pockslide-main/test.ipynb#W3sZmlsZQ%3D%3D?line=3'>4</a>\u001b[0m \u001b[39mprint\u001b[39m(distance)\n\u001b[0;32m      <a href='vscode-notebook-cell:/c%3A/Users/lrhoden/Downloads/pockslide-main%20%281%29/pockslide-main/test.ipynb#W3sZmlsZQ%3D%3D?line=5'>6</a>\u001b[0m \u001b[39mprint\u001b[39m(pk\u001b[39m.\u001b[39mnormalize([\u001b[39m2\u001b[39m,\u001b[39m1\u001b[39m]))\n",
      "File \u001b[1;32mc:\\Users\\lrhoden\\Downloads\\pockslide-main (1)\\pockslide-main\\pocksward.py:75\u001b[0m, in \u001b[0;36mcontinuousCheck.run\u001b[1;34m(self, sklVct)\u001b[0m\n\u001b[0;32m     73\u001b[0m mean \u001b[39m=\u001b[39m \u001b[39mself\u001b[39m\u001b[39m.\u001b[39mmeanScaler \u001b[39m*\u001b[39m (\u001b[39mself\u001b[39m\u001b[39m.\u001b[39mmeanVct\u001b[39m.\u001b[39mdot(np\u001b[39m.\u001b[39marray(sklVct))) \u001b[39m+\u001b[39m \u001b[39mself\u001b[39m\u001b[39m.\u001b[39mmeanB\n\u001b[0;32m     74\u001b[0m sigma \u001b[39m=\u001b[39m \u001b[39mself\u001b[39m\u001b[39m.\u001b[39msigmaScaler \u001b[39m*\u001b[39m (\u001b[39mself\u001b[39m\u001b[39m.\u001b[39msigmaVct\u001b[39m.\u001b[39mdot(np\u001b[39m.\u001b[39marray(sklVct))) \u001b[39m+\u001b[39m \u001b[39mself\u001b[39m\u001b[39m.\u001b[39msigmaB\n\u001b[1;32m---> 75\u001b[0m \u001b[39mreturn\u001b[39;00m random\u001b[39m.\u001b[39;49mrandom\u001b[39m.\u001b[39;49mnormal(mean, sigma)\n",
      "\u001b[1;31mAttributeError\u001b[0m: 'builtin_function_or_method' object has no attribute 'normal'"
     ]
    }
   ],
   "source": [
    "hit = pk.continuousCheck([1,0,0,0], 10, 100, [0,1,0,0], 5, 10)\n",
    "\n",
    "distance = hit.run([np.sqrt(.5), np.sqrt(0.5), 0, 0])\n",
    "print(distance)\n",
    "\n",
    "print(pk.normalize([2,1]))"
   ]
  },
  {
   "cell_type": "code",
   "execution_count": 4,
   "metadata": {},
   "outputs": [
    {
     "name": "stdout",
     "output_type": "stream",
     "text": [
      "(True, [<GameStateEnum.preGame: 1>, 0, 1, False, [0, 0], 0], 6)\n",
      "0\n",
      "(True, [<GameStateEnum.slide: 2>, 1, 1, True, [0, 0], 0.030372325017553704], 0.030372325017553704)\n",
      "(True, [<GameStateEnum.clink: 3>, 1, 1, True, [0, 0], 1.4959725133316477], 1.465600188314094)\n",
      "(79.97376474257229, [<GameStateEnum.hitch: 16>, 1, 1, True, [0, 0], 1.4959725133316477], 3)\n",
      "0\n",
      "(True, [<GameStateEnum.slide: 2>, 1, 1, False, [0, 0], 2.747862267730979], 1.2518897543993313)\n",
      "(True, [<GameStateEnum.clink: 3>, 1, 1, False, [0, 0], 2.934148466270035], 0.18628619853905592)\n",
      "(71.34176447681332, [<GameStateEnum.hitch: 16>, 1, 1, False, [0, 0], 2.934148466270035], 3)\n",
      "0\n",
      "(True, [<GameStateEnum.slide: 2>, 2, 1, True, [0, 0], 3.2675706044915147], 0.3334221382214795)\n",
      "(True, [<GameStateEnum.clink: 3>, 2, 1, True, [0, 0], 4.645812726636391], 1.3782421221448764)\n",
      "(87.42867806987243, [<GameStateEnum.hitch: 16>, 2, 1, True, [0, 0], 4.645812726636391], 3)\n",
      "0\n",
      "(True, [<GameStateEnum.slide: 2>, 2, 1, False, [0, 0], 5.512334434877939], 0.866521708241548)\n",
      "(True, [<GameStateEnum.clink: 3>, 2, 1, False, [0, 0], 6.0052135492605], 0.4928791143825603)\n",
      "(80.24689388365489, [<GameStateEnum.hitch: 16>, 2, 1, False, [0, 0], 6.0052135492605], 3)\n",
      "0\n",
      "(True, [<GameStateEnum.slide: 2>, 3, 1, True, [0, 0], 6.023951714501141], 0.01873816524064172)\n",
      "(True, [<GameStateEnum.clink: 3>, 3, 1, True, [0, 0], 7.312368088851695], 1.2884163743505537)\n",
      "(68.30095667603796, [<GameStateEnum.hitch: 16>, 3, 1, True, [0, 0], 7.312368088851695], 3)\n",
      "0\n",
      "(True, [<GameStateEnum.slide: 2>, 3, 1, False, [0, 0], 11.562254522119499], 4.249886433267805)\n",
      "(True, [<GameStateEnum.clink: 3>, 3, 1, False, [0, 0], 15.008546609785736], 3.4462920876662366)\n",
      "(81.82507498291379, [<GameStateEnum.hitch: 16>, 3, 1, False, [0, 0], 15.008546609785736], 3)\n",
      "0\n",
      "(True, [<GameStateEnum.slide: 2>, 4, 1, True, [0, 0], 15.962842669874416], 0.9542960600886808)\n",
      "(True, [<GameStateEnum.clink: 3>, 4, 1, True, [0, 0], 17.522892580295505], 1.5600499104210874)\n",
      "(78.45748715063827, [<GameStateEnum.hitch: 16>, 4, 1, True, [0, 0], 17.522892580295505], 3)\n",
      "0\n",
      "(True, [<GameStateEnum.slide: 2>, 4, 1, False, [0, 0], 18.516097889558925], 0.9932053092634213)\n",
      "(False, [<GameStateEnum.clink: 3>, 4, 1, False, [0, 0], 19.70213598597655], 1.1860380964176263)\n",
      "0\n"
     ]
    },
    {
     "ename": "TypeError",
     "evalue": "cannot unpack non-iterable numpy.float64 object",
     "output_type": "error",
     "traceback": [
      "\u001b[1;31m---------------------------------------------------------------------------\u001b[0m",
      "\u001b[1;31mTypeError\u001b[0m                                 Traceback (most recent call last)",
      "\u001b[1;32mc:\\Users\\lrhoden\\Downloads\\pockslide-main (1)\\pockslide-main\\test.ipynb Cell 5\u001b[0m line \u001b[0;36m9\n\u001b[0;32m      <a href='vscode-notebook-cell:/c%3A/Users/lrhoden/Downloads/pockslide-main%20%281%29/pockslide-main/test.ipynb#W4sZmlsZQ%3D%3D?line=6'>7</a>\u001b[0m out \u001b[39m=\u001b[39m testGame\u001b[39m.\u001b[39mrun()\n\u001b[0;32m      <a href='vscode-notebook-cell:/c%3A/Users/lrhoden/Downloads/pockslide-main%20%281%29/pockslide-main/test.ipynb#W4sZmlsZQ%3D%3D?line=7'>8</a>\u001b[0m \u001b[39mif\u001b[39;00m out \u001b[39m!=\u001b[39m \u001b[39m0\u001b[39m:\n\u001b[1;32m----> <a href='vscode-notebook-cell:/c%3A/Users/lrhoden/Downloads/pockslide-main%20%281%29/pockslide-main/test.ipynb#W4sZmlsZQ%3D%3D?line=8'>9</a>\u001b[0m     result, outVct, waitTime \u001b[39m=\u001b[39m out\n\u001b[0;32m     <a href='vscode-notebook-cell:/c%3A/Users/lrhoden/Downloads/pockslide-main%20%281%29/pockslide-main/test.ipynb#W4sZmlsZQ%3D%3D?line=9'>10</a>\u001b[0m \u001b[39melse\u001b[39;00m:\n\u001b[0;32m     <a href='vscode-notebook-cell:/c%3A/Users/lrhoden/Downloads/pockslide-main%20%281%29/pockslide-main/test.ipynb#W4sZmlsZQ%3D%3D?line=10'>11</a>\u001b[0m     outVct \u001b[39m=\u001b[39m \u001b[39m0\u001b[39m\n",
      "\u001b[1;31mTypeError\u001b[0m: cannot unpack non-iterable numpy.float64 object"
     ]
    }
   ],
   "source": [
    "aCrew = pk.Team(pk.Coach(), [pk.Player(\"A\", pk.normalize([1,1,1,1]),0,0), pk.Player(\"A\", pk.normalize([1,1,1,1]),0,0), pk.Player(\"A\", pk.normalize([1,1,1,1]),0,0), pk.Player(\"A\", pk.normalize([1,1,1,1]),0,0), pk.Player(\"A\", pk.normalize([1,1,1,1]),0,0)])\n",
    "zCrew = pk.Team(pk.Coach(), [pk.Player(\"Z\", pk.normalize([1,1,1,1]),0,0), pk.Player(\"Z\", pk.normalize([1,1,1,1]),0,0), pk.Player(\"Z\", pk.normalize([1,1,1,1]),0,0), pk.Player(\"Z\", pk.normalize([1,1,1,1]),0,0), pk.Player(\"Z\", pk.normalize([1,1,1,1]),0,0)])\n",
    "dougDougField = pk.Fairground(\"DougDoug Field\", pk.normalize([0,1,1,0]))\n",
    "\n",
    "testGame = gm.Game(aCrew, zCrew, dougDougField, 0)\n",
    "for i in range(0, 50):\n",
    "    out = testGame.run()\n",
    "    if out != 0:\n",
    "        result, outVct, waitTime = out\n",
    "    else:\n",
    "        outVct = 0\n",
    "        waitTime = 0\n",
    "    time.sleep(waitTime)\n",
    "    print(out)\n",
    "    \n",
    "    \n",
    "    \n",
    "\n"
   ]
  }
 ],
 "metadata": {
  "kernelspec": {
   "display_name": "Python 3",
   "language": "python",
   "name": "python3"
  },
  "language_info": {
   "codemirror_mode": {
    "name": "ipython",
    "version": 3
   },
   "file_extension": ".py",
   "mimetype": "text/x-python",
   "name": "python",
   "nbconvert_exporter": "python",
   "pygments_lexer": "ipython3",
   "version": "3.11.6"
  }
 },
 "nbformat": 4,
 "nbformat_minor": 2
}
