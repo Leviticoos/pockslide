{
 "cells": [
  {
   "cell_type": "code",
   "execution_count": 2,
   "metadata": {},
   "outputs": [],
   "source": [
    "import numpy as np\n",
    "\n",
    "import pocksward as pk\n",
    "import time as time\n",
    "\n",
    "#Keep this as long as lenses.py is being edited TODO delete once done\n",
    "from importlib import reload  # Python 3.4+\n",
    "pk = reload(pk)"
   ]
  },
  {
   "cell_type": "code",
   "execution_count": 3,
   "metadata": {},
   "outputs": [
    {
     "name": "stdout",
     "output_type": "stream",
     "text": [
      "[1 0 0 0] [0.70710678 0.70710678 0.         0.        ] [0.70710678 0.70710678 0.         0.        ]\n"
     ]
    }
   ],
   "source": [
    "testMan = pk.Player(\"Gregg\", [1,0,0,0], 0, 0)\n",
    "saveOfTestMan = testMan\n",
    "saveOfTestManSklVct = testMan.getSklVct()\n",
    "testMan.changeSklVct([0,1,0,0])\n",
    "print(saveOfTestManSklVct, saveOfTestMan.getSklVct(), testMan.getSklVct())\n"
   ]
  },
  {
   "cell_type": "code",
   "execution_count": 7,
   "metadata": {},
   "outputs": [
    {
     "name": "stdout",
     "output_type": "stream",
     "text": [
      "(<GameStateEnum.preGame: 1>, 6)\n",
      "(<GameStateEnum.scrambleAdmin: 4>, 0, 0)\n",
      "(<GameStateEnum.slide: 2>, True, [<GameStateEnum.slide: 2>, 1, 1, True, [0, 0], 0, 1.3233007026236905, [<pocksward.actors.Player object at 0x000002522276A890>, array([0.5, 0.5, 0.5, 0.5]), array([0.29443133, 0.82923635, 0.15320517, 0.44967259])]])\n",
      "(<GameStateEnum.clink: 3>, True, [<GameStateEnum.clink: 3>, 1, 1, True, [0, 0], 0, 2.577707636412312, [<pocksward.actors.Player object at 0x0000025221997C10>, array([0.5, 0.5, 0.5, 0.5]), array([0.66979684, 0.72527714, 0.06353255, 0.14597562])]])\n",
      "(<GameStateEnum.hitch: 16>, 87.56872429948744, [<GameStateEnum.hitch: 16>, 1, 1, True, [0, 0], 87.56872429948744, 2.577707636412312, [0, 0, 0]])\n",
      "(<GameStateEnum.scrambleAdmin: 4>, 0, 0)\n",
      "(<GameStateEnum.slide: 2>, True, [<GameStateEnum.slide: 2>, 1, 1, False, [0, 0], 87.56872429948744, 4.162694800972391, [<pocksward.actors.Player object at 0x000002522274C890>, array([0.5, 0.5, 0.5, 0.5]), array([0.29397568, 0.48915235, 0.55859045, 0.60190114])]])\n",
      "(<GameStateEnum.clink: 3>, False, [<GameStateEnum.clink: 3>, 1, 1, False, [0, 0], 87.56872429948744, 5.298712024649938, [<pocksward.actors.Player object at 0x000002522274C6D0>, array([0.5, 0.5, 0.5, 0.5]), array([0.29172947, 0.76012993, 0.54066013, 0.21162002])]])\n",
      "(<GameStateEnum.scrambleAdmin: 4>, 0, 0)\n",
      "(<GameStateEnum.slide: 2>, True, [<GameStateEnum.slide: 2>, 2, 1, True, [0, 0], 87.56872429948744, 9.319057455168558, [<pocksward.actors.Player object at 0x0000025221997C10>, array([0.5, 0.5, 0.5, 0.5]), array([0.70210593, 0.5346253 , 0.46767148, 0.0500644 ])]])\n",
      "(<GameStateEnum.clink: 3>, True, [<GameStateEnum.clink: 3>, 2, 1, True, [0, 0], 87.56872429948744, 16.273936720665098, [<pocksward.actors.Player object at 0x0000025221997C10>, array([0.5, 0.5, 0.5, 0.5]), array([0.27811595, 0.68395914, 0.40511943, 0.53919353])]])\n",
      "(<GameStateEnum.hitch: 16>, 99.12953202763163, [<GameStateEnum.hitch: 16>, 2, 1, True, [0, 0], 186.69825632711905, 16.273936720665098, [0, 0, 0]])\n",
      "(<GameStateEnum.scrambleAdmin: 4>, 0, 0)\n",
      "GameStateEnum.breather\n",
      "None\n",
      "None\n",
      "None\n",
      "None\n",
      "None\n",
      "None\n",
      "None\n",
      "None\n",
      "None\n",
      "None\n",
      "None\n",
      "None\n",
      "None\n",
      "None\n",
      "None\n",
      "None\n",
      "None\n",
      "None\n",
      "None\n",
      "None\n",
      "None\n",
      "None\n",
      "None\n",
      "None\n",
      "None\n",
      "None\n",
      "None\n",
      "None\n",
      "None\n",
      "None\n",
      "None\n",
      "None\n",
      "None\n",
      "None\n",
      "None\n",
      "None\n"
     ]
    }
   ],
   "source": [
    "aCrew = pk.Team(pk.Coach(), [pk.Player(\"A\", pk.normalize([1,1,1,1]),0,0), pk.Player(\"A\", pk.normalize([1,1,1,1]),0,0), pk.Player(\"A\", pk.normalize([1,1,1,1]),0,0), pk.Player(\"A\", pk.normalize([1,1,1,1]),0,0), pk.Player(\"A\", pk.normalize([1,1,1,1]),0,0)])\n",
    "zCrew = pk.Team(pk.Coach(), [pk.Player(\"Z\", pk.normalize([1,1,1,1]),0,0), pk.Player(\"Z\", pk.normalize([1,1,1,1]),0,0), pk.Player(\"Z\", pk.normalize([1,1,1,1]),0,0), pk.Player(\"Z\", pk.normalize([1,1,1,1]),0,0), pk.Player(\"Z\", pk.normalize([1,1,1,1]),0,0)])\n",
    "dougDougField = pk.Fairground(\"DougDoug Field\", pk.normalize([0,1,1,0]), 101.456)\n",
    "\n",
    "testGame = pk.Game(aCrew, zCrew, dougDougField, 0)\n",
    "for i in range(0, 50):\n",
    "    gameStateSimmed  = testGame.run()\n",
    "    waitTime = 0.1\n",
    "    time.sleep(waitTime)\n",
    "    print(gameStateSimmed)\n",
    "    \n",
    "    \n",
    "    \n",
    "\n"
   ]
  }
 ],
 "metadata": {
  "kernelspec": {
   "display_name": "Python 3",
   "language": "python",
   "name": "python3"
  },
  "language_info": {
   "codemirror_mode": {
    "name": "ipython",
    "version": 3
   },
   "file_extension": ".py",
   "mimetype": "text/x-python",
   "name": "python",
   "nbconvert_exporter": "python",
   "pygments_lexer": "ipython3",
   "version": "3.11.6"
  }
 },
 "nbformat": 4,
 "nbformat_minor": 2
}
