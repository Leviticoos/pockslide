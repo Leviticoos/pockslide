{
 "cells": [
  {
   "cell_type": "code",
   "execution_count": 94,
   "metadata": {},
   "outputs": [],
   "source": [
    "import numpy as np\n",
    "\n",
    "import pocksward as pk\n",
    "import game as gm\n",
    "\n",
    "#Keep this as long as lenses.py is being edited TODO delete once done\n",
    "from importlib import reload  # Python 3.4+\n",
    "pk = reload(pk)\n",
    "gm = reload(gm)"
   ]
  },
  {
   "cell_type": "markdown",
   "metadata": {},
   "source": []
  },
  {
   "cell_type": "code",
   "execution_count": 8,
   "metadata": {},
   "outputs": [
    {
     "name": "stdout",
     "output_type": "stream",
     "text": [
      "False 0.25 0.5899903566178543 [0.         0.35355339 0.         0.        ]\n",
      "[1, 34]\n",
      "[1, 34]\n"
     ]
    }
   ],
   "source": [
    "throw = pk.Check([[1,0,0,0],[0,1,0,0],[0,0,1,0],[0,0,0,1]])\n",
    "\n",
    "outcome, prob, roll, vct = throw.run([np.sqrt(.5),np.sqrt(0.5),0,0],[0,np.sqrt(0.5),np.sqrt(0.5),0],[0.5,.5,0,0],verbose=True)\n",
    "\n",
    "print(outcome, prob, roll, vct)\n",
    "\n",
    "x = 1\n",
    "vct = [x, 34]\n",
    "print(vct)\n",
    "x=3\n",
    "print(vct)"
   ]
  },
  {
   "cell_type": "code",
   "execution_count": 34,
   "metadata": {},
   "outputs": [
    {
     "name": "stdout",
     "output_type": "stream",
     "text": [
      "125.3723881488018\n",
      "[0.89442719 0.4472136 ]\n"
     ]
    }
   ],
   "source": [
    "hit = pk.continuousCheck([1,0,0,0], 10, 100, [0,1,0,0], 5, 10)\n",
    "\n",
    "distance = hit.run([np.sqrt(.5), np.sqrt(0.5), 0, 0])\n",
    "print(distance)\n",
    "\n",
    "print(pk.normalize([2,1]))"
   ]
  },
  {
   "cell_type": "code",
   "execution_count": 95,
   "metadata": {},
   "outputs": [
    {
     "name": "stdout",
     "output_type": "stream",
     "text": [
      "(True, [<GameStateEnum.preGame: 1>, 1, 1, True, [0, 0], 0], 300000)\n"
     ]
    },
    {
     "ename": "TypeError",
     "evalue": "float() argument must be a string or a real number, not 'module'",
     "output_type": "error",
     "traceback": [
      "\u001b[1;31m---------------------------------------------------------------------------\u001b[0m",
      "\u001b[1;31mTypeError\u001b[0m                                 Traceback (most recent call last)",
      "\u001b[1;32mc:\\Users\\Levi Rhoden\\Desktop\\Europa Lost\\pockslide\\test.ipynb Cell 5\u001b[0m line \u001b[0;36m7\n\u001b[0;32m      <a href='vscode-notebook-cell:/c%3A/Users/Levi%20Rhoden/Desktop/Europa%20Lost/pockslide/test.ipynb#W3sZmlsZQ%3D%3D?line=4'>5</a>\u001b[0m testGame \u001b[39m=\u001b[39m gm\u001b[39m.\u001b[39mGame(aCrew, zCrew, dougDougField, \u001b[39m0\u001b[39m)\n\u001b[0;32m      <a href='vscode-notebook-cell:/c%3A/Users/Levi%20Rhoden/Desktop/Europa%20Lost/pockslide/test.ipynb#W3sZmlsZQ%3D%3D?line=5'>6</a>\u001b[0m \u001b[39mprint\u001b[39m(testGame\u001b[39m.\u001b[39mrun())\n\u001b[1;32m----> <a href='vscode-notebook-cell:/c%3A/Users/Levi%20Rhoden/Desktop/Europa%20Lost/pockslide/test.ipynb#W3sZmlsZQ%3D%3D?line=6'>7</a>\u001b[0m \u001b[39mprint\u001b[39m(testGame\u001b[39m.\u001b[39;49mrun())\n",
      "File \u001b[1;32mc:\\Users\\Levi Rhoden\\Desktop\\Europa Lost\\pockslide\\game.py:79\u001b[0m, in \u001b[0;36mGame.run\u001b[1;34m(self)\u001b[0m\n\u001b[0;32m     77\u001b[0m player \u001b[39m=\u001b[39m \u001b[39mself\u001b[39m\u001b[39m.\u001b[39mteamUp\u001b[39m.\u001b[39mgetOrder()[\u001b[39mself\u001b[39m\u001b[39m.\u001b[39mpylon]\n\u001b[0;32m     78\u001b[0m \u001b[39m#feed the acting player the game state, get his actVct\u001b[39;00m\n\u001b[1;32m---> 79\u001b[0m actVct \u001b[39m=\u001b[39m player\u001b[39m.\u001b[39;49mthink() \u001b[39m#TODO WITH ALEX\u001b[39;00m\n\u001b[0;32m     80\u001b[0m \u001b[39m#Run the check\u001b[39;00m\n\u001b[0;32m     81\u001b[0m result \u001b[39m=\u001b[39m \u001b[39mself\u001b[39m\u001b[39m.\u001b[39mslideChk\u001b[39m.\u001b[39mrun([\u001b[39m1\u001b[39m,\u001b[39m1\u001b[39m,\u001b[39m1\u001b[39m,\u001b[39m1\u001b[39m], actVct, player\u001b[39m.\u001b[39mgetSklVct())\n",
      "File \u001b[1;32mc:\\Users\\Levi Rhoden\\Desktop\\Europa Lost\\pockslide\\pocksward.py:109\u001b[0m, in \u001b[0;36mPlayer.think\u001b[1;34m(self)\u001b[0m\n\u001b[0;32m    107\u001b[0m \u001b[39mdef\u001b[39;00m \u001b[39mthink\u001b[39m(\u001b[39mself\u001b[39m):\n\u001b[0;32m    108\u001b[0m     \u001b[39m#takes in the state of the game (tbd) and uses a baby N.N. to determine what action player will try to preform\u001b[39;00m\n\u001b[1;32m--> 109\u001b[0m     v \u001b[39m=\u001b[39m (\u001b[39mfloat\u001b[39;49m(random),\u001b[39mfloat\u001b[39m(random),\u001b[39mfloat\u001b[39m(random),\u001b[39mfloat\u001b[39m(random))\n\u001b[0;32m    110\u001b[0m     \u001b[39mprint\u001b[39m(v)\n\u001b[0;32m    111\u001b[0m     actVector \u001b[39m=\u001b[39m normalize(v)\n",
      "\u001b[1;31mTypeError\u001b[0m: float() argument must be a string or a real number, not 'module'"
     ]
    }
   ],
   "source": [
    "aCrew = pk.Team(pk.Coach(), [pk.Player(\"A\", pk.normalize([1,1,1,1]),0,0), pk.Player(\"A\", pk.normalize([1,1,1,1]),0,0), pk.Player(\"A\", pk.normalize([1,1,1,1]),0,0), pk.Player(\"A\", pk.normalize([1,1,1,1]),0,0), pk.Player(\"A\", pk.normalize([1,1,1,1]),0,0)])\n",
    "zCrew = pk.Team(pk.Coach(), [pk.Player(\"Z\", pk.normalize([1,1,1,1]),0,0), pk.Player(\"Z\", pk.normalize([1,1,1,1]),0,0), pk.Player(\"Z\", pk.normalize([1,1,1,1]),0,0), pk.Player(\"Z\", pk.normalize([1,1,1,1]),0,0), pk.Player(\"Z\", pk.normalize([1,1,1,1]),0,0)])\n",
    "dougDougField = pk.Fairground(\"DougDoug Field\", pk.normalize([0,1,1,0]))\n",
    "\n",
    "testGame = gm.Game(aCrew, zCrew, dougDougField, 0)\n",
    "print(testGame.run())\n",
    "print(testGame.run())\n",
    "\n"
   ]
  }
 ],
 "metadata": {
  "kernelspec": {
   "display_name": "Python 3",
   "language": "python",
   "name": "python3"
  },
  "language_info": {
   "codemirror_mode": {
    "name": "ipython",
    "version": 3
   },
   "file_extension": ".py",
   "mimetype": "text/x-python",
   "name": "python",
   "nbconvert_exporter": "python",
   "pygments_lexer": "ipython3",
   "version": "3.11.6"
  }
 },
 "nbformat": 4,
 "nbformat_minor": 2
}
