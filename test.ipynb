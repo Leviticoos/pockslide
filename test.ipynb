{
 "cells": [
  {
   "cell_type": "code",
   "execution_count": 1,
   "metadata": {},
   "outputs": [],
   "source": [
    "import numpy as np\n",
    "\n",
    "import pocksward as pk\n",
    "import time as time\n",
    "\n",
    "#Keep this as long as lenses.py is being edited TODO delete once done\n",
    "from importlib import reload  # Python 3.4+\n",
    "pk = reload(pk)"
   ]
  },
  {
   "cell_type": "code",
   "execution_count": 8,
   "metadata": {},
   "outputs": [
    {
     "name": "stdout",
     "output_type": "stream",
     "text": [
      "[1 0 0 0] [0.70710678 0.70710678 0.         0.        ] [0.70710678 0.70710678 0.         0.        ]\n"
     ]
    }
   ],
   "source": [
    "testMan = pk.Player(\"Gregg\", [1,0,0,0], 0, 0)\n",
    "saveOfTestMan = testMan\n",
    "saveOfTestManSklVct = testMan.getSklVct()\n",
    "testMan.changeSklVct([0,1,0,0])\n",
    "print(saveOfTestManSklVct, saveOfTestMan.getSklVct(), testMan.getSklVct())\n"
   ]
  },
  {
   "cell_type": "code",
   "execution_count": 3,
   "metadata": {},
   "outputs": [
    {
     "name": "stdout",
     "output_type": "stream",
     "text": [
      "(True, [<GameStateEnum.preGame: 1>, 0, 1, False, [0, 0], 0], 6)\n",
      "GameStateEnum.scrambleAdmin\n",
      "(True, [<GameStateEnum.slide: 2>, 1, 1, True, [0, 0], 0, 6.364253504248414], 6.364253504248414)\n",
      "(True, [<GameStateEnum.clink: 3>, 1, 1, True, [0, 0], 0, 12.929667329337397], 6.565413825088982)\n",
      "(97.32973035409388, [<GameStateEnum.hitch: 16>, 1, 1, True, [0, 0], 97.32973035409388, 12.929667329337397], 3)\n",
      "GameStateEnum.scrambleAdmin\n",
      "(True, [<GameStateEnum.slide: 2>, 1, 1, False, [0, 0], 97.32973035409388, 19.471172986380598], 6.541505657043202)\n",
      "(True, [<GameStateEnum.clink: 3>, 1, 1, False, [0, 0], 97.32973035409388, 30.38223802793751], 10.911065041556913)\n",
      "(92.57356859248073, [<GameStateEnum.hitch: 16>, 1, 1, False, [0, 0], 4.756161761613157, 30.38223802793751], 3)\n",
      "GameStateEnum.scrambleAdmin\n",
      "(True, [<GameStateEnum.slide: 2>, 2, 1, True, [0, 0], 4.756161761613157, 34.07967280083031], 3.6974347728928016)\n",
      "(True, [<GameStateEnum.clink: 3>, 2, 1, True, [0, 0], 4.756161761613157, 43.27308411120126], 9.193411310370948)\n",
      "(86.44788753221307, [<GameStateEnum.hitch: 16>, 2, 1, True, [0, 0], 91.20404929382623, 43.27308411120126], 3)\n",
      "GameStateEnum.scrambleAdmin\n",
      "(True, [<GameStateEnum.slide: 2>, 2, 1, False, [0, 0], 91.20404929382623, 49.257355564624625], 5.984271453423366)\n",
      "(True, [<GameStateEnum.clink: 3>, 2, 1, False, [0, 0], 91.20404929382623, 51.457256889500115], 2.1999013248754933)\n",
      "(71.77890699035771, [<GameStateEnum.hitch: 16>, 2, 1, False, [0, 0], 19.42514230346852, 51.457256889500115], 3)\n",
      "GameStateEnum.scrambleAdmin\n",
      "(True, [<GameStateEnum.slide: 2>, 3, 1, True, [0, 0], 19.42514230346852, 59.69779746681375], 8.240540577313636)\n",
      "(True, [<GameStateEnum.clink: 3>, 3, 1, True, [0, 0], 19.42514230346852, 60.82429186662378], 1.1264943998100305)\n",
      "(96.3344680051252, [<GameStateEnum.hitch: 16>, 3, 1, True, [0, 0], 115.75961030859372, 60.82429186662378], 3)\n",
      "GameStateEnum.scrambleAdmin\n",
      "GameStateEnum.breather\n",
      "None\n",
      "None\n",
      "None\n",
      "None\n",
      "None\n",
      "None\n",
      "None\n",
      "None\n",
      "None\n",
      "None\n",
      "None\n",
      "None\n",
      "None\n",
      "None\n",
      "None\n",
      "None\n",
      "None\n",
      "None\n",
      "None\n",
      "None\n",
      "None\n",
      "None\n",
      "None\n",
      "None\n",
      "None\n",
      "None\n",
      "None\n"
     ]
    }
   ],
   "source": [
    "aCrew = pk.Team(pk.Coach(), [pk.Player(\"A\", pk.normalize([1,1,1,1]),0,0), pk.Player(\"A\", pk.normalize([1,1,1,1]),0,0), pk.Player(\"A\", pk.normalize([1,1,1,1]),0,0), pk.Player(\"A\", pk.normalize([1,1,1,1]),0,0), pk.Player(\"A\", pk.normalize([1,1,1,1]),0,0)])\n",
    "zCrew = pk.Team(pk.Coach(), [pk.Player(\"Z\", pk.normalize([1,1,1,1]),0,0), pk.Player(\"Z\", pk.normalize([1,1,1,1]),0,0), pk.Player(\"Z\", pk.normalize([1,1,1,1]),0,0), pk.Player(\"Z\", pk.normalize([1,1,1,1]),0,0), pk.Player(\"Z\", pk.normalize([1,1,1,1]),0,0)])\n",
    "dougDougField = pk.Fairground(\"DougDoug Field\", pk.normalize([0,1,1,0]), 101.456)\n",
    "\n",
    "testGame = pk.Game(aCrew, zCrew, dougDougField, 0)\n",
    "for i in range(0, 50):\n",
    "    out = testGame.run()\n",
    "    if out != 0:\n",
    "        #result, outVct, waitTime = out\n",
    "        waitTime = 0\n",
    "    else:\n",
    "        outVct = 0\n",
    "        waitTime = 0\n",
    "    time.sleep(waitTime)\n",
    "    print(out)\n",
    "    \n",
    "    \n",
    "    \n",
    "\n"
   ]
  }
 ],
 "metadata": {
  "kernelspec": {
   "display_name": "Python 3",
   "language": "python",
   "name": "python3"
  },
  "language_info": {
   "codemirror_mode": {
    "name": "ipython",
    "version": 3
   },
   "file_extension": ".py",
   "mimetype": "text/x-python",
   "name": "python",
   "nbconvert_exporter": "python",
   "pygments_lexer": "ipython3",
   "version": "3.11.6"
  }
 },
 "nbformat": 4,
 "nbformat_minor": 2
}
