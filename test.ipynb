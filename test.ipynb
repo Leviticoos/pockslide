{
 "cells": [
  {
   "cell_type": "code",
   "execution_count": 1,
   "metadata": {},
   "outputs": [
    {
     "name": "stdout",
     "output_type": "stream",
     "text": [
      "piss and Shit, main init imported, init?\n"
     ]
    }
   ],
   "source": [
    "import numpy as np\n",
    "\n",
    "import pocksward as pk\n",
    "import time as time\n",
    "\n",
    "#Keep this as long as lenses.py is being edited TODO delete once done\n",
    "from importlib import reload  # Python 3.4+\n",
    "pk = reload(pk)"
   ]
  },
  {
   "cell_type": "code",
   "execution_count": 2,
   "metadata": {},
   "outputs": [
    {
     "name": "stdout",
     "output_type": "stream",
     "text": [
      "[1 0 0 0] [0.70710678 0.70710678 0.         0.        ] [0.70710678 0.70710678 0.         0.        ]\n"
     ]
    }
   ],
   "source": [
    "testMan = pk.Player(\"Gregg\", [1,0,0,0], 0, 0)\n",
    "saveOfTestMan = testMan\n",
    "saveOfTestManSklVct = testMan.getSklVct()\n",
    "testMan.changeSklVct([0,1,0,0])\n",
    "print(saveOfTestManSklVct, saveOfTestMan.getSklVct(), testMan.getSklVct())\n"
   ]
  },
  {
   "cell_type": "code",
   "execution_count": 3,
   "metadata": {},
   "outputs": [
    {
     "name": "stdout",
     "output_type": "stream",
     "text": [
      "(<GameStateEnum.preGame: 1>, 6)\n",
      "(<GameStateEnum.scrambleAdmin: 4>, 0, 0)\n"
     ]
    },
    {
     "ename": "NameError",
     "evalue": "name 'actVct' is not defined",
     "output_type": "error",
     "traceback": [
      "\u001b[1;31m---------------------------------------------------------------------------\u001b[0m",
      "\u001b[1;31mNameError\u001b[0m                                 Traceback (most recent call last)",
      "Cell \u001b[1;32mIn[3], line 7\u001b[0m\n\u001b[0;32m      5\u001b[0m testGame \u001b[38;5;241m=\u001b[39m pk\u001b[38;5;241m.\u001b[39mGame(aCrew, zCrew, dougDougField, \u001b[38;5;241m0\u001b[39m)\n\u001b[0;32m      6\u001b[0m \u001b[38;5;28;01mfor\u001b[39;00m i \u001b[38;5;129;01min\u001b[39;00m \u001b[38;5;28mrange\u001b[39m(\u001b[38;5;241m0\u001b[39m, \u001b[38;5;241m50\u001b[39m):\n\u001b[1;32m----> 7\u001b[0m     gameStateSimmed  \u001b[38;5;241m=\u001b[39m \u001b[43mtestGame\u001b[49m\u001b[38;5;241;43m.\u001b[39;49m\u001b[43mrun\u001b[49m\u001b[43m(\u001b[49m\u001b[43m)\u001b[49m\n\u001b[0;32m      8\u001b[0m     waitTime \u001b[38;5;241m=\u001b[39m \u001b[38;5;241m0.1\u001b[39m\n\u001b[0;32m      9\u001b[0m     time\u001b[38;5;241m.\u001b[39msleep(waitTime)\n",
      "File \u001b[1;32mc:\\Users\\lrhoden\\Downloads\\pockslide-main (7)\\pockslide-main\\pocksward\\sport\\game.py:81\u001b[0m, in \u001b[0;36mGame.run\u001b[1;34m(self)\u001b[0m\n\u001b[0;32m     79\u001b[0m     result, \u001b[38;5;28mself\u001b[39m\u001b[38;5;241m.\u001b[39mgameState, \u001b[38;5;28mself\u001b[39m\u001b[38;5;241m.\u001b[39mplayVct, \u001b[38;5;28mself\u001b[39m\u001b[38;5;241m.\u001b[39mclock \u001b[38;5;241m=\u001b[39m pk\u001b[38;5;241m.\u001b[39mboolStep(player\u001b[38;5;241m.\u001b[39mthink(\u001b[38;5;28mself\u001b[39m\u001b[38;5;241m.\u001b[39mclock), player\u001b[38;5;241m.\u001b[39mthink(\u001b[38;5;28mself\u001b[39m\u001b[38;5;241m.\u001b[39mclock), player\u001b[38;5;241m.\u001b[39mgetSklVct(), \u001b[38;5;28mself\u001b[39m\u001b[38;5;241m.\u001b[39mslideChk, GameStateEnum\u001b[38;5;241m.\u001b[39mhitch, GameStateEnum\u001b[38;5;241m.\u001b[39mscrambleAdmin, \u001b[38;5;28mself\u001b[39m\u001b[38;5;241m.\u001b[39mclock)\n\u001b[0;32m     80\u001b[0m     \u001b[38;5;66;03m#compile output data\u001b[39;00m\n\u001b[1;32m---> 81\u001b[0m     \u001b[38;5;28;01mreturn\u001b[39;00m [GameStateEnum\u001b[38;5;241m.\u001b[39mslide, result, [\u001b[38;5;28mself\u001b[39m\u001b[38;5;241m.\u001b[39mpylon, \u001b[38;5;28mself\u001b[39m\u001b[38;5;241m.\u001b[39mhomeUp, \u001b[38;5;28mself\u001b[39m\u001b[38;5;241m.\u001b[39miterator], [\u001b[38;5;28mself\u001b[39m\u001b[38;5;241m.\u001b[39mscores, \u001b[38;5;28mself\u001b[39m\u001b[38;5;241m.\u001b[39mplace, \u001b[38;5;28mself\u001b[39m\u001b[38;5;241m.\u001b[39mclock], [player\u001b[38;5;241m.\u001b[39mgetName(), player\u001b[38;5;241m.\u001b[39mgetSklVct(), \u001b[43mactVct\u001b[49m]]\n\u001b[0;32m     83\u001b[0m \u001b[38;5;28;01melif\u001b[39;00m \u001b[38;5;28mself\u001b[39m\u001b[38;5;241m.\u001b[39mgameState\u001b[38;5;241m.\u001b[39mname \u001b[38;5;241m==\u001b[39m \u001b[38;5;124m\"\u001b[39m\u001b[38;5;124mclink\u001b[39m\u001b[38;5;124m\"\u001b[39m:\n\u001b[0;32m     84\u001b[0m     \u001b[38;5;66;03m#Get clinker for the pylon\u001b[39;00m\n\u001b[0;32m     85\u001b[0m     player \u001b[38;5;241m=\u001b[39m \u001b[38;5;28mself\u001b[39m\u001b[38;5;241m.\u001b[39mteamUp\u001b[38;5;241m.\u001b[39mgetOrder()[\u001b[38;5;28mself\u001b[39m\u001b[38;5;241m.\u001b[39mpylon \u001b[38;5;241m%\u001b[39m \u001b[38;5;241m5\u001b[39m]\n",
      "\u001b[1;31mNameError\u001b[0m: name 'actVct' is not defined"
     ]
    }
   ],
   "source": [
    "aCrew = pk.Team(pk.Coach(), [pk.Player(\"A\", ([1,1,1,1]),0,0), pk.Player(\"A\", ([1,1,1,1]),0,0), pk.Player(\"A\", ([1,1,1,1]),0,0), pk.Player(\"A\", ([1,1,1,1]),0,0), pk.Player(\"A\", ([1,1,1,1]),0,0)])\n",
    "zCrew = pk.Team(pk.Coach(), [pk.Player(\"Z\", ([1,1,1,1]),0,0), pk.Player(\"Z\", ([1,1,1,1]),0,0), pk.Player(\"Z\", ([1,1,1,1]),0,0), pk.Player(\"Z\", ([1,1,1,1]),0,0), pk.Player(\"Z\", ([1,1,1,1]),0,0)])\n",
    "dougDougField = pk.Fairground(\"DougDoug Field\", ([0,1,1,0]), 101.456)\n",
    "\n",
    "testGame = pk.Game(aCrew, zCrew, dougDougField, 0)\n",
    "for i in range(0, 50):\n",
    "    gameStateSimmed  = testGame.run()\n",
    "    waitTime = 0.1\n",
    "    time.sleep(waitTime)\n",
    "    print(gameStateSimmed)\n",
    "    \n",
    "    \n",
    "    \n",
    "\n"
   ]
  }
 ],
 "metadata": {
  "kernelspec": {
   "display_name": "Python 3",
   "language": "python",
   "name": "python3"
  },
  "language_info": {
   "codemirror_mode": {
    "name": "ipython",
    "version": 3
   },
   "file_extension": ".py",
   "mimetype": "text/x-python",
   "name": "python",
   "nbconvert_exporter": "python",
   "pygments_lexer": "ipython3",
   "version": "3.11.7"
  }
 },
 "nbformat": 4,
 "nbformat_minor": 2
}
