{
 "cells": [
  {
   "cell_type": "code",
   "execution_count": 1,
   "metadata": {},
   "outputs": [],
   "source": [
    "import numpy as np\n",
    "\n",
    "import pocksward as pk\n",
    "import time as time\n",
    "\n",
    "#Keep this as long as lenses.py is being edited TODO delete once done\n",
    "from importlib import reload  # Python 3.4+\n",
    "pk = reload(pk)"
   ]
  },
  {
   "cell_type": "code",
   "execution_count": 9,
   "metadata": {},
   "outputs": [
    {
     "name": "stdout",
     "output_type": "stream",
     "text": [
      "[1 0 0 0] [0.70710678 0.70710678 0.         0.        ] [0.70710678 0.70710678 0.         0.        ]\n"
     ]
    }
   ],
   "source": [
    "testMan = pk.Player(\"Gregg\", [1,0,0,0], 0, 0)\n",
    "saveOfTestMan = testMan\n",
    "saveOfTestManSklVct = testMan.getSklVct()\n",
    "testMan.changeSklVct([0,1,0,0])\n",
    "print(saveOfTestManSklVct, saveOfTestMan.getSklVct(), testMan.getSklVct())\n"
   ]
  },
  {
   "cell_type": "code",
   "execution_count": 2,
   "metadata": {},
   "outputs": [
    {
     "name": "stdout",
     "output_type": "stream",
     "text": [
      "(<GameStateEnum.preGame: 1>, 6)\n",
      "(<GameStateEnum.scrambleAdmin: 4>, 0, 0)\n",
      "(<GameStateEnum.slide: 2>, True, [<GameStateEnum.slide: 2>, 1, 1, True, [0, 0], 0, 2.889104767254099, [<pocksward.actors.Player object at 0x000002192F3E6710>, array([0.5, 0.5, 0.5, 0.5]), array([0.18820229, 0.48011343, 0.83994784, 0.16899295])]])\n",
      "(<GameStateEnum.clink: 3>, True, [<GameStateEnum.clink: 3>, 1, 1, True, [0, 0], 0, 9.395955319448866, [<pocksward.actors.Player object at 0x00000219309BBF10>, array([0.5, 0.5, 0.5, 0.5]), array([0.20128043, 0.67270008, 0.70774594, 0.07782334])]])\n",
      "(<GameStateEnum.hitch: 16>, 82.33096358090967, [<GameStateEnum.hitch: 16>, 1, 1, True, [0, 0], 82.33096358090967, 9.395955319448866, [0, 0, 0]])\n",
      "(<GameStateEnum.scrambleAdmin: 4>, 0, 0)\n",
      "(<GameStateEnum.slide: 2>, True, [<GameStateEnum.slide: 2>, 1, 1, False, [0, 0], 82.33096358090967, 12.70216066249588, [<pocksward.actors.Player object at 0x00000219309BC490>, array([0.5, 0.5, 0.5, 0.5]), array([0.17926192, 0.06627978, 0.2544725 , 0.94800628])]])\n",
      "(<GameStateEnum.clink: 3>, True, [<GameStateEnum.clink: 3>, 1, 1, False, [0, 0], 82.33096358090967, 19.05517900733028, [<pocksward.actors.Player object at 0x00000219309BC610>, array([0.5, 0.5, 0.5, 0.5]), array([0.39143261, 0.39019347, 0.45881739, 0.69571271])]])\n",
      "(<GameStateEnum.hitch: 16>, 85.9250109110144, [<GameStateEnum.hitch: 16>, 1, 1, False, [0, 0], -3.594047330104729, 19.05517900733028, [0, 0, 0]])\n",
      "(<GameStateEnum.scrambleAdmin: 4>, 0, 0)\n",
      "(<GameStateEnum.slide: 2>, True, [<GameStateEnum.slide: 2>, 2, 1, True, [0, 0], -3.594047330104729, 21.230793374676658, [<pocksward.actors.Player object at 0x00000219309BBF10>, array([0.5, 0.5, 0.5, 0.5]), array([6.77475211e-01, 3.83751048e-04, 5.78565553e-01, 4.54190590e-01])]])\n",
      "(<GameStateEnum.clink: 3>, False, [<GameStateEnum.clink: 3>, 2, 1, True, [0, 0], -3.594047330104729, 25.02386051923481, [<pocksward.actors.Player object at 0x00000219309BBF10>, array([0.5, 0.5, 0.5, 0.5]), array([0.97317235, 0.00257323, 0.14003169, 0.18253789])]])\n",
      "(<GameStateEnum.scrambleAdmin: 4>, 0, 0)\n",
      "(<GameStateEnum.slide: 2>, True, [<GameStateEnum.slide: 2>, 2, 1, False, [0, 0], -3.594047330104729, 31.85987477028725, [<pocksward.actors.Player object at 0x00000219309BC610>, array([0.5, 0.5, 0.5, 0.5]), array([0.67143365, 0.38298802, 0.62678791, 0.0981527 ])]])\n",
      "(<GameStateEnum.clink: 3>, True, [<GameStateEnum.clink: 3>, 2, 1, False, [0, 0], -3.594047330104729, 34.321226130052686, [<pocksward.actors.Player object at 0x00000219309BC610>, array([0.5, 0.5, 0.5, 0.5]), array([0.48997577, 0.34600367, 0.71993267, 0.34914489])]])\n",
      "(<GameStateEnum.hitch: 16>, 93.03401665075847, [<GameStateEnum.hitch: 16>, 2, 1, False, [0, 0], -96.6280639808632, 34.321226130052686, [0, 0, 0]])\n",
      "(<GameStateEnum.scrambleAdmin: 4>, 0, 0)\n",
      "(<GameStateEnum.slide: 2>, True, [<GameStateEnum.slide: 2>, 3, 1, True, [0, 0], -96.6280639808632, 40.19687370512142, [<pocksward.actors.Player object at 0x00000219309BC310>, array([0.5, 0.5, 0.5, 0.5]), array([0.6613215 , 0.58851897, 0.33038391, 0.32733127])]])\n",
      "(<GameStateEnum.clink: 3>, True, [<GameStateEnum.clink: 3>, 3, 1, True, [0, 0], -96.6280639808632, 42.59609094360098, [<pocksward.actors.Player object at 0x00000219309BBF10>, array([0.5, 0.5, 0.5, 0.5]), array([0.39201949, 0.50976623, 0.65615637, 0.39486444])]])\n",
      "(<GameStateEnum.hitch: 16>, 87.10580766835375, [<GameStateEnum.hitch: 16>, 3, 1, True, [0, 0], -9.522256312509455, 42.59609094360098, [0, 0, 0]])\n",
      "(<GameStateEnum.scrambleAdmin: 4>, 0, 0)\n",
      "(<GameStateEnum.slide: 2>, True, [<GameStateEnum.slide: 2>, 3, 1, False, [0, 0], -9.522256312509455, 44.13835002645269, [<pocksward.actors.Player object at 0x00000219309BC650>, array([0.5, 0.5, 0.5, 0.5]), array([0.68897825, 0.23533714, 0.64653583, 0.22785264])]])\n",
      "(<GameStateEnum.clink: 3>, False, [<GameStateEnum.clink: 3>, 3, 1, False, [0, 0], -9.522256312509455, 45.94561917795548, [<pocksward.actors.Player object at 0x00000219309BC610>, array([0.5, 0.5, 0.5, 0.5]), array([0.33084306, 0.53403003, 0.42966812, 0.64864483])]])\n",
      "(<GameStateEnum.scrambleAdmin: 4>, 0, 0)\n",
      "(<GameStateEnum.slide: 2>, True, [<GameStateEnum.slide: 2>, 4, 1, True, [0, 0], -9.522256312509455, 47.438655991192626, [<pocksward.actors.Player object at 0x00000219309BC350>, array([0.5, 0.5, 0.5, 0.5]), array([0.0168336 , 0.00370601, 0.55431954, 0.83212544])]])\n",
      "(<GameStateEnum.clink: 3>, False, [<GameStateEnum.clink: 3>, 4, 1, True, [0, 0], -9.522256312509455, 54.33602343458253, [<pocksward.actors.Player object at 0x00000219309BBF10>, array([0.5, 0.5, 0.5, 0.5]), array([0.05538906, 0.6381066 , 0.58399491, 0.49870027])]])\n",
      "(<GameStateEnum.scrambleAdmin: 4>, 0, 0)\n",
      "(<GameStateEnum.slide: 2>, True, [<GameStateEnum.slide: 2>, 4, 1, False, [0, 0], -9.522256312509455, 55.935108720848646, [<pocksward.actors.Player object at 0x00000219309BC690>, array([0.5, 0.5, 0.5, 0.5]), array([0.28921216, 0.78974057, 0.30528525, 0.44661736])]])\n",
      "(<GameStateEnum.clink: 3>, True, [<GameStateEnum.clink: 3>, 4, 1, False, [0, 0], -9.522256312509455, 61.7976370237922, [<pocksward.actors.Player object at 0x00000219309BC610>, array([0.5, 0.5, 0.5, 0.5]), array([0.65971319, 0.43714083, 0.34084095, 0.50745823])]])\n",
      "(<GameStateEnum.hitch: 16>, 58.855017638010594, [<GameStateEnum.hitch: 16>, 4, 1, False, [0, 0], -68.37727395052005, 61.7976370237922, [0, 0, 0]])\n",
      "(<GameStateEnum.scrambleAdmin: 4>, 0, 0)\n",
      "(<GameStateEnum.slide: 2>, True, [<GameStateEnum.slide: 2>, 5, 1, True, [0, 0], -68.37727395052005, 63.766293251270206, [<pocksward.actors.Player object at 0x00000219309BC390>, array([0.5, 0.5, 0.5, 0.5]), array([0.29349196, 0.79709304, 0.29677575, 0.43638206])]])\n",
      "(<GameStateEnum.clink: 3>, False, [<GameStateEnum.clink: 3>, 5, 1, True, [0, 0], -68.37727395052005, 66.9615347299861, [<pocksward.actors.Player object at 0x00000219309BBF10>, array([0.5, 0.5, 0.5, 0.5]), array([0.6039527 , 0.24305851, 0.47111319, 0.59516054])]])\n",
      "(<GameStateEnum.scrambleAdmin: 4>, 0, 0)\n",
      "(<GameStateEnum.slide: 2>, True, [<GameStateEnum.slide: 2>, 5, 1, False, [0, 0], -68.37727395052005, 70.0179936867111, [<pocksward.actors.Player object at 0x00000219309BC6D0>, array([0.5, 0.5, 0.5, 0.5]), array([0.33944737, 0.83838776, 0.02954817, 0.42545076])]])\n",
      "(<GameStateEnum.clink: 3>, True, [<GameStateEnum.clink: 3>, 5, 1, False, [0, 0], -68.37727395052005, 71.80807839077758, [<pocksward.actors.Player object at 0x00000219309BC610>, array([0.5, 0.5, 0.5, 0.5]), array([0.39507395, 0.75694146, 0.3549509 , 0.38074408])]])\n",
      "(<GameStateEnum.hitch: 16>, 84.1101336738166, [<GameStateEnum.hitch: 16>, 5, 1, False, [0, 0], -152.48740762433664, 71.80807839077758, [0, 0, 0]])\n",
      "(<GameStateEnum.scrambleAdmin: 4>, 0, 0)\n",
      "GameStateEnum.breather\n",
      "None\n",
      "None\n",
      "None\n",
      "None\n",
      "None\n",
      "None\n",
      "None\n",
      "None\n",
      "None\n",
      "None\n",
      "None\n"
     ]
    }
   ],
   "source": [
    "aCrew = pk.Team(pk.Coach(), [pk.Player(\"A\", pk.normalize([1,1,1,1]),0,0), pk.Player(\"A\", pk.normalize([1,1,1,1]),0,0), pk.Player(\"A\", pk.normalize([1,1,1,1]),0,0), pk.Player(\"A\", pk.normalize([1,1,1,1]),0,0), pk.Player(\"A\", pk.normalize([1,1,1,1]),0,0)])\n",
    "zCrew = pk.Team(pk.Coach(), [pk.Player(\"Z\", pk.normalize([1,1,1,1]),0,0), pk.Player(\"Z\", pk.normalize([1,1,1,1]),0,0), pk.Player(\"Z\", pk.normalize([1,1,1,1]),0,0), pk.Player(\"Z\", pk.normalize([1,1,1,1]),0,0), pk.Player(\"Z\", pk.normalize([1,1,1,1]),0,0)])\n",
    "dougDougField = pk.Fairground(\"DougDoug Field\", pk.normalize([0,1,1,0]), 101.456)\n",
    "\n",
    "testGame = pk.Game(aCrew, zCrew, dougDougField, 0)\n",
    "for i in range(0, 50):\n",
    "    gameStateSimmed, result,  = testGame.run()\n",
    "    \n",
    "    time.sleep(waitTime)\n",
    "    print(out)\n",
    "    \n",
    "    \n",
    "    \n",
    "\n"
   ]
  }
 ],
 "metadata": {
  "kernelspec": {
   "display_name": "Python 3",
   "language": "python",
   "name": "python3"
  },
  "language_info": {
   "codemirror_mode": {
    "name": "ipython",
    "version": 3
   },
   "file_extension": ".py",
   "mimetype": "text/x-python",
   "name": "python",
   "nbconvert_exporter": "python",
   "pygments_lexer": "ipython3",
   "version": "3.11.6"
  }
 },
 "nbformat": 4,
 "nbformat_minor": 2
}
