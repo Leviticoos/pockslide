{
 "cells": [
  {
   "cell_type": "code",
   "execution_count": 10,
   "metadata": {},
   "outputs": [],
   "source": [
    "import numpy as np\n",
    "\n",
    "import pocksward as pk\n",
    "import game as gm\n",
    "import time as time\n",
    "\n",
    "#Keep this as long as lenses.py is being edited TODO delete once done\n",
    "from importlib import reload  # Python 3.4+\n",
    "pk = reload(pk)\n",
    "gm = reload(gm)"
   ]
  },
  {
   "cell_type": "markdown",
   "metadata": {},
   "source": []
  },
  {
   "cell_type": "code",
   "execution_count": 8,
   "metadata": {},
   "outputs": [
    {
     "name": "stdout",
     "output_type": "stream",
     "text": [
      "False 0.25 0.5899903566178543 [0.         0.35355339 0.         0.        ]\n",
      "[1, 34]\n",
      "[1, 34]\n"
     ]
    }
   ],
   "source": [
    "throw = pk.Check([[1,0,0,0],[0,1,0,0],[0,0,1,0],[0,0,0,1]])\n",
    "\n",
    "outcome, prob, roll, vct = throw.run([np.sqrt(.5),np.sqrt(0.5),0,0],[0,np.sqrt(0.5),np.sqrt(0.5),0],[0.5,.5,0,0],verbose=True)\n",
    "\n",
    "print(outcome, prob, roll, vct)\n",
    "\n",
    "x = 1\n",
    "vct = [x, 34]\n",
    "print(vct)\n",
    "x=3\n",
    "print(vct)"
   ]
  },
  {
   "cell_type": "code",
   "execution_count": 13,
   "metadata": {},
   "outputs": [
    {
     "ename": "AttributeError",
     "evalue": "'builtin_function_or_method' object has no attribute 'normal'",
     "output_type": "error",
     "traceback": [
      "\u001b[1;31m---------------------------------------------------------------------------\u001b[0m",
      "\u001b[1;31mAttributeError\u001b[0m                            Traceback (most recent call last)",
      "\u001b[1;32mc:\\Users\\lrhoden\\Downloads\\pockslide-main (1)\\pockslide-main\\test.ipynb Cell 4\u001b[0m line \u001b[0;36m3\n\u001b[0;32m      <a href='vscode-notebook-cell:/c%3A/Users/lrhoden/Downloads/pockslide-main%20%281%29/pockslide-main/test.ipynb#W3sZmlsZQ%3D%3D?line=0'>1</a>\u001b[0m hit \u001b[39m=\u001b[39m pk\u001b[39m.\u001b[39mcontinuousCheck([\u001b[39m1\u001b[39m,\u001b[39m0\u001b[39m,\u001b[39m0\u001b[39m,\u001b[39m0\u001b[39m], \u001b[39m10\u001b[39m, \u001b[39m100\u001b[39m, [\u001b[39m0\u001b[39m,\u001b[39m1\u001b[39m,\u001b[39m0\u001b[39m,\u001b[39m0\u001b[39m], \u001b[39m5\u001b[39m, \u001b[39m10\u001b[39m)\n\u001b[1;32m----> <a href='vscode-notebook-cell:/c%3A/Users/lrhoden/Downloads/pockslide-main%20%281%29/pockslide-main/test.ipynb#W3sZmlsZQ%3D%3D?line=2'>3</a>\u001b[0m distance \u001b[39m=\u001b[39m hit\u001b[39m.\u001b[39;49mrun([np\u001b[39m.\u001b[39;49msqrt(\u001b[39m.5\u001b[39;49m), np\u001b[39m.\u001b[39;49msqrt(\u001b[39m0.5\u001b[39;49m), \u001b[39m0\u001b[39;49m, \u001b[39m0\u001b[39;49m])\n\u001b[0;32m      <a href='vscode-notebook-cell:/c%3A/Users/lrhoden/Downloads/pockslide-main%20%281%29/pockslide-main/test.ipynb#W3sZmlsZQ%3D%3D?line=3'>4</a>\u001b[0m \u001b[39mprint\u001b[39m(distance)\n\u001b[0;32m      <a href='vscode-notebook-cell:/c%3A/Users/lrhoden/Downloads/pockslide-main%20%281%29/pockslide-main/test.ipynb#W3sZmlsZQ%3D%3D?line=5'>6</a>\u001b[0m \u001b[39mprint\u001b[39m(pk\u001b[39m.\u001b[39mnormalize([\u001b[39m2\u001b[39m,\u001b[39m1\u001b[39m]))\n",
      "File \u001b[1;32mc:\\Users\\lrhoden\\Downloads\\pockslide-main (1)\\pockslide-main\\pocksward.py:75\u001b[0m, in \u001b[0;36mcontinuousCheck.run\u001b[1;34m(self, sklVct)\u001b[0m\n\u001b[0;32m     73\u001b[0m mean \u001b[39m=\u001b[39m \u001b[39mself\u001b[39m\u001b[39m.\u001b[39mmeanScaler \u001b[39m*\u001b[39m (\u001b[39mself\u001b[39m\u001b[39m.\u001b[39mmeanVct\u001b[39m.\u001b[39mdot(np\u001b[39m.\u001b[39marray(sklVct))) \u001b[39m+\u001b[39m \u001b[39mself\u001b[39m\u001b[39m.\u001b[39mmeanB\n\u001b[0;32m     74\u001b[0m sigma \u001b[39m=\u001b[39m \u001b[39mself\u001b[39m\u001b[39m.\u001b[39msigmaScaler \u001b[39m*\u001b[39m (\u001b[39mself\u001b[39m\u001b[39m.\u001b[39msigmaVct\u001b[39m.\u001b[39mdot(np\u001b[39m.\u001b[39marray(sklVct))) \u001b[39m+\u001b[39m \u001b[39mself\u001b[39m\u001b[39m.\u001b[39msigmaB\n\u001b[1;32m---> 75\u001b[0m \u001b[39mreturn\u001b[39;00m random\u001b[39m.\u001b[39;49mrandom\u001b[39m.\u001b[39;49mnormal(mean, sigma)\n",
      "\u001b[1;31mAttributeError\u001b[0m: 'builtin_function_or_method' object has no attribute 'normal'"
     ]
    }
   ],
   "source": [
    "hit = pk.continuousCheck([1,0,0,0], 10, 100, [0,1,0,0], 5, 10)\n",
    "\n",
    "distance = hit.run([np.sqrt(.5), np.sqrt(0.5), 0, 0])\n",
    "print(distance)\n",
    "\n",
    "print(pk.normalize([2,1]))"
   ]
  },
  {
   "cell_type": "code",
   "execution_count": 11,
   "metadata": {},
   "outputs": [
    {
     "name": "stdout",
     "output_type": "stream",
     "text": [
      "6\n",
      "(True, [<GameStateEnum.preGame: 1>, 0, 1, False, [0, 0], 0], 6)\n",
      "0.5\n",
      "(False, [], 0.5)\n"
     ]
    },
    {
     "ename": "NameError",
     "evalue": "name 'timeB' is not defined",
     "output_type": "error",
     "traceback": [
      "\u001b[1;31m---------------------------------------------------------------------------\u001b[0m",
      "\u001b[1;31mNameError\u001b[0m                                 Traceback (most recent call last)",
      "\u001b[1;32mc:\\Users\\Levi Rhoden\\Desktop\\Europa Lost\\pockslide\\test.ipynb Cell 5\u001b[0m line \u001b[0;36m7\n\u001b[0;32m      <a href='vscode-notebook-cell:/c%3A/Users/Levi%20Rhoden/Desktop/Europa%20Lost/pockslide/test.ipynb#W4sZmlsZQ%3D%3D?line=4'>5</a>\u001b[0m testGame \u001b[39m=\u001b[39m gm\u001b[39m.\u001b[39mGame(aCrew, zCrew, dougDougField, \u001b[39m0\u001b[39m)\n\u001b[0;32m      <a href='vscode-notebook-cell:/c%3A/Users/Levi%20Rhoden/Desktop/Europa%20Lost/pockslide/test.ipynb#W4sZmlsZQ%3D%3D?line=5'>6</a>\u001b[0m \u001b[39mfor\u001b[39;00m i \u001b[39min\u001b[39;00m \u001b[39mrange\u001b[39m(\u001b[39m0\u001b[39m, \u001b[39m50\u001b[39m):\n\u001b[1;32m----> <a href='vscode-notebook-cell:/c%3A/Users/Levi%20Rhoden/Desktop/Europa%20Lost/pockslide/test.ipynb#W4sZmlsZQ%3D%3D?line=6'>7</a>\u001b[0m     out \u001b[39m=\u001b[39m testGame\u001b[39m.\u001b[39;49mrun()\n\u001b[0;32m      <a href='vscode-notebook-cell:/c%3A/Users/Levi%20Rhoden/Desktop/Europa%20Lost/pockslide/test.ipynb#W4sZmlsZQ%3D%3D?line=7'>8</a>\u001b[0m     \u001b[39mif\u001b[39;00m out \u001b[39m!=\u001b[39m \u001b[39m0\u001b[39m:\n\u001b[0;32m      <a href='vscode-notebook-cell:/c%3A/Users/Levi%20Rhoden/Desktop/Europa%20Lost/pockslide/test.ipynb#W4sZmlsZQ%3D%3D?line=8'>9</a>\u001b[0m         result, outVct, waitTime \u001b[39m=\u001b[39m out\n",
      "File \u001b[1;32mc:\\Users\\Levi Rhoden\\Desktop\\Europa Lost\\pockslide\\game.py:87\u001b[0m, in \u001b[0;36mGame.run\u001b[1;34m(self)\u001b[0m\n\u001b[0;32m     85\u001b[0m result \u001b[39m=\u001b[39m \u001b[39mself\u001b[39m\u001b[39m.\u001b[39mslideChk\u001b[39m.\u001b[39mrun([\u001b[39m1\u001b[39m,\u001b[39m1\u001b[39m,\u001b[39m1\u001b[39m,\u001b[39m1\u001b[39m], actVct, player\u001b[39m.\u001b[39mgetSklVct())\n\u001b[0;32m     86\u001b[0m \u001b[39m#get the time for play\u001b[39;00m\n\u001b[1;32m---> 87\u001b[0m waitTime \u001b[39m=\u001b[39m \u001b[39mself\u001b[39;49m\u001b[39m.\u001b[39;49mslideChk\u001b[39m.\u001b[39;49mwaitTime()\n\u001b[0;32m     88\u001b[0m \u001b[39mself\u001b[39m\u001b[39m.\u001b[39mclock \u001b[39m+\u001b[39m\u001b[39m=\u001b[39m waitTime\n\u001b[0;32m     89\u001b[0m \u001b[39m#define outputs\u001b[39;00m\n",
      "File \u001b[1;32mc:\\Users\\Levi Rhoden\\Desktop\\Europa Lost\\pockslide\\pocksward.py:58\u001b[0m, in \u001b[0;36mCheck.waitTime\u001b[1;34m(self)\u001b[0m\n\u001b[0;32m     57\u001b[0m \u001b[39mdef\u001b[39;00m \u001b[39mwaitTime\u001b[39m(\u001b[39mself\u001b[39m):\n\u001b[1;32m---> 58\u001b[0m     \u001b[39mreturn\u001b[39;00m random\u001b[39m.\u001b[39mexpovariate(\u001b[39m1\u001b[39m\u001b[39m/\u001b[39m\u001b[39mself\u001b[39m\u001b[39m.\u001b[39mtimeMean)\u001b[39m+\u001b[39mtimeB\n",
      "\u001b[1;31mNameError\u001b[0m: name 'timeB' is not defined"
     ]
    }
   ],
   "source": [
    "aCrew = pk.Team(pk.Coach(), [pk.Player(\"A\", pk.normalize([1,1,1,1]),0,0), pk.Player(\"A\", pk.normalize([1,1,1,1]),0,0), pk.Player(\"A\", pk.normalize([1,1,1,1]),0,0), pk.Player(\"A\", pk.normalize([1,1,1,1]),0,0), pk.Player(\"A\", pk.normalize([1,1,1,1]),0,0)])\n",
    "zCrew = pk.Team(pk.Coach(), [pk.Player(\"Z\", pk.normalize([1,1,1,1]),0,0), pk.Player(\"Z\", pk.normalize([1,1,1,1]),0,0), pk.Player(\"Z\", pk.normalize([1,1,1,1]),0,0), pk.Player(\"Z\", pk.normalize([1,1,1,1]),0,0), pk.Player(\"Z\", pk.normalize([1,1,1,1]),0,0)])\n",
    "dougDougField = pk.Fairground(\"DougDoug Field\", pk.normalize([0,1,1,0]))\n",
    "\n",
    "testGame = gm.Game(aCrew, zCrew, dougDougField, 0)\n",
    "for i in range(0, 50):\n",
    "    out = testGame.run()\n",
    "    if out != 0:\n",
    "        result, outVct, waitTime = out\n",
    "    else:\n",
    "        outVct = 0\n",
    "        waitTime = 0\n",
    "    print(waitTime)\n",
    "    time.sleep(waitTime)\n",
    "    print(out)\n",
    "    \n",
    "    \n",
    "    \n",
    "\n"
   ]
  }
 ],
 "metadata": {
  "kernelspec": {
   "display_name": "Python 3",
   "language": "python",
   "name": "python3"
  },
  "language_info": {
   "codemirror_mode": {
    "name": "ipython",
    "version": 3
   },
   "file_extension": ".py",
   "mimetype": "text/x-python",
   "name": "python",
   "nbconvert_exporter": "python",
   "pygments_lexer": "ipython3",
   "version": "3.11.6"
  }
 },
 "nbformat": 4,
 "nbformat_minor": 2
}
